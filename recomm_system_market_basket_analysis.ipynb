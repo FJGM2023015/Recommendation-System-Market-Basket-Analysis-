{
 "cells": [
  {
   "cell_type": "markdown",
   "id": "97bd5ab9",
   "metadata": {},
   "source": [
    "# Recommendation System & Market Basket Analysis\n",
    "\n",
    "The aim of this project is to conduct an analysis of the Recommendation System and Market Basket for a database from Amazon.com and Groceries Dataset respectively."
   ]
  },
  {
   "cell_type": "markdown",
   "id": "abf1eeb9",
   "metadata": {},
   "source": [
    "# Content"
   ]
  },
  {
   "cell_type": "markdown",
   "id": "c247e3b0",
   "metadata": {},
   "source": [
    "* [1. Introduction](#1)\n",
    "* [2. Business Understanding](#2)\n",
    "* [3. Data Understanding](#3)\n",
    "    * [3.1 Load Libraries](#3.1)    \n",
    "    * [3.2. Load Dataset](#3.2)\n",
    "    * [3.3. Exploratory Data Analysis (EDA)](#3.3)\n",
    "    * [3.4. Descriptive Statistics](#3.4)\n",
    "    * [3.5. Data Visualization](#3.5)\n",
    "* [4. Data Preparation](#4)\n",
    "* [5. Modeling](#5)\n",
    "* [7. Bibliography](#7)"
   ]
  },
  {
   "cell_type": "markdown",
   "id": "733a3f71",
   "metadata": {},
   "source": [
    "<a id='1'></a>\n",
    "# 1. Introduction\n",
    "\n",
    "In the digital commerce era, recommendation systems have become an essential tool to enhance the customer experience and maximize the operational efficiency of businesses. This project focuses on implementing a recommendation system and a Market Basket analysis, using a database extracted from https://www.iguazio.com/blog/13-best-free-retail-datasets-for-machine-learning/.\n",
    "\n",
    "The aim is twofold; on one hand, I seek to understand and predict user preferences and behaviors to offer personalized product suggestions; on the other, I want to uncover hidden patterns in consumer purchasing decisions through Market Basket analysis, which will allow us to identify which products tend to be purchased together.\n",
    "\n",
    "To carry out this project, I will adopt the CRISP-DM methodology (Cross-Industry Standard Process for Data Mining), a standard six-phase process that guides from business understanding to the deployment of the data mining model. This approach will ensure a systematic and organized development that will cover business understanding, data understanding, data preparation, modeling, evaluation, and finally, the deployment of the recommendation system and Market Basket analysis."
   ]
  },
  {
   "cell_type": "markdown",
   "id": "4ad7d1cc",
   "metadata": {},
   "source": [
    "<a id='2'></a>\n",
    "# 2. Business Understanding\n",
    "\n",
    "First of all, you have to understand that there are different types of recommendation engines, such as:\n",
    "\n",
    "* Content-based filtering\n",
    "    * Plot description-based recommender\n",
    "    * Metadata-based recommender\n",
    "\n",
    "\n",
    "* Collaborative-based filtering (two types):\n",
    "    * User-based Collaborative Filtering\n",
    "    * Item-based Collaborative Filtering\n",
    "\n",
    "\n",
    "* Hybrid Systems\n",
    "\n",
    "\n",
    "* ML Clustering\n",
    "\n",
    "\n",
    "* Market Basket Analysis (association rule mining)\n",
    "\n",
    "In this project, I will focus on Content-based filtering, Collaborative-based filtering and Market basket analysis. But before continuing I will make a brief comparison between Collaborative Filtering and Content-Based Filtering System and what is the purpose and benefits that both clients and companies have when creating a recommendation system.\n",
    "\n",
    "Reference: Hands-On Recommendation Systems with Python, Rounak Banik, Copyright © 2018 Packt Publishing - ISBN 978-1-78899-375-3"
   ]
  },
  {
   "cell_type": "code",
   "execution_count": 1,
   "id": "086f52b2",
   "metadata": {},
   "outputs": [
    {
     "data": {
      "image/jpeg": "[encoded data removed]",
      "text/plain": [
       "<IPython.core.display.Image object>"
      ]
     },
     "execution_count": 1,
     "metadata": {},
     "output_type": "execute_result"
    }
   ],
   "source": [
    "from IPython.display import Image\n",
    "Image(filename =r'Purpose.jpg')"
   ]
  },
  {
   "cell_type": "markdown",
   "id": "595c2985",
   "metadata": {},
   "source": [
    "<a id='3'></a>\n",
    "# 3. Data Understanding"
   ]
  },
  {
   "cell_type": "markdown",
   "id": "f5614718",
   "metadata": {},
   "source": [
    "<a id='3.1'></a>\n",
    "## 3.1 Load Libraries"
   ]
  },
  {
   "cell_type": "code",
   "execution_count": 2,
   "id": "e2799e79",
   "metadata": {},
   "outputs": [],
   "source": [
    "import pandas as pd\n",
    "import math\n",
    "import numpy as np\n",
    "import scipy.stats as stats\n",
    "from scipy.stats import binom\n",
    "import seaborn as sns\n",
    "import matplotlib.pyplot as plt\n",
    "import re\n",
    "from textblob import TextBlob\n",
    "from sklearn.feature_extraction.text import TfidfVectorizer\n",
    "from sklearn.metrics.pairwise import cosine_similarity\n",
    "from sklearn.neighbors import NearestNeighbors\n",
    "\n",
    "\n",
    "import warnings\n",
    "warnings.filterwarnings('ignore')"
   ]
  },
  {
   "cell_type": "markdown",
   "id": "9bf6c359",
   "metadata": {},
   "source": [
    "<a id='3.2'></a>\n",
    "## 3.2. Load Dataset"
   ]
  },
  {
   "cell_type": "code",
   "execution_count": 3,
   "id": "11d5e417",
   "metadata": {},
   "outputs": [],
   "source": [
    "df_amazon = pd.read_csv(\"amazon_co-ecommerce_sample.csv\")"
   ]
  },
  {
   "cell_type": "markdown",
   "id": "99491987",
   "metadata": {},
   "source": [
    "<a id='3.3'></a>\n",
    "## 3.3. Exploratory Data Analysis (EDA)"
   ]
  },
  {
   "cell_type": "code",
   "execution_count": 4,
   "id": "54d31f46",
   "metadata": {},
   "outputs": [
    {
     "data": {
      "text/html": [
       "<div>\n",
       "<style scoped>\n",
       "    .dataframe tbody tr th:only-of-type {\n",
       "        vertical-align: middle;\n",
       "    }\n",
       "\n",
       "    .dataframe tbody tr th {\n",
       "        vertical-align: top;\n",
       "    }\n",
       "\n",
       "    .dataframe thead th {\n",
       "        text-align: right;\n",
       "    }\n",
       "</style>\n",
       "<table border=\"1\" class=\"dataframe\">\n",
       "  <thead>\n",
       "    <tr style=\"text-align: right;\">\n",
       "      <th></th>\n",
       "      <th>uniq_id</th>\n",
       "      <th>product_name</th>\n",
       "      <th>manufacturer</th>\n",
       "      <th>price</th>\n",
       "      <th>number_available_in_stock</th>\n",
       "      <th>number_of_reviews</th>\n",
       "      <th>number_of_answered_questions</th>\n",
       "      <th>average_review_rating</th>\n",
       "      <th>amazon_category_and_sub_category</th>\n",
       "      <th>customers_who_bought_this_item_also_bought</th>\n",
       "      <th>description</th>\n",
       "      <th>product_information</th>\n",
       "      <th>product_description</th>\n",
       "      <th>items_customers_buy_after_viewing_this_item</th>\n",
       "      <th>customer_questions_and_answers</th>\n",
       "      <th>customer_reviews</th>\n",
       "      <th>sellers</th>\n",
       "    </tr>\n",
       "  </thead>\n",
       "  <tbody>\n",
       "    <tr>\n",
       "      <th>0</th>\n",
       "      <td>eac7efa5dbd3d667f26eb3d3ab504464</td>\n",
       "      <td>Hornby 2014 Catalogue</td>\n",
       "      <td>Hornby</td>\n",
       "      <td>£3.42</td>\n",
       "      <td>5 new</td>\n",
       "      <td>15</td>\n",
       "      <td>1.0</td>\n",
       "      <td>4.9 out of 5 stars</td>\n",
       "      <td>Hobbies &gt; Model Trains &amp; Railway Sets &gt; Rail V...</td>\n",
       "      <td>http://www.amazon.co.uk/Hornby-R8150-Catalogue...</td>\n",
       "      <td>Product Description Hornby 2014 Catalogue Box ...</td>\n",
       "      <td>Technical Details Item Weight640 g Product Dim...</td>\n",
       "      <td>Product Description Hornby 2014 Catalogue Box ...</td>\n",
       "      <td>http://www.amazon.co.uk/Hornby-R8150-Catalogue...</td>\n",
       "      <td>Does this catalogue detail all the previous Ho...</td>\n",
       "      <td>Worth Buying For The Pictures Alone (As Ever) ...</td>\n",
       "      <td>{\"seller\"=&gt;[{\"Seller_name_1\"=&gt;\"Amazon.co.uk\", ...</td>\n",
       "    </tr>\n",
       "    <tr>\n",
       "      <th>1</th>\n",
       "      <td>b17540ef7e86e461d37f3ae58b7b72ac</td>\n",
       "      <td>FunkyBuys® Large Christmas Holiday Express Fes...</td>\n",
       "      <td>FunkyBuys</td>\n",
       "      <td>£16.99</td>\n",
       "      <td>NaN</td>\n",
       "      <td>2</td>\n",
       "      <td>1.0</td>\n",
       "      <td>4.5 out of 5 stars</td>\n",
       "      <td>Hobbies &gt; Model Trains &amp; Railway Sets &gt; Rail V...</td>\n",
       "      <td>http://www.amazon.co.uk/Christmas-Holiday-Expr...</td>\n",
       "      <td>Size Name:Large FunkyBuys® Large Christmas Hol...</td>\n",
       "      <td>Technical Details Manufacturer recommended age...</td>\n",
       "      <td>Size Name:Large FunkyBuys® Large Christmas Hol...</td>\n",
       "      <td>http://www.amazon.co.uk/Christmas-Holiday-Expr...</td>\n",
       "      <td>can you turn off sounds // hi no you cant turn...</td>\n",
       "      <td>Four Stars // 4.0 // 18 Dec. 2015 // By\\n    \\...</td>\n",
       "      <td>{\"seller\"=&gt;{\"Seller_name_1\"=&gt;\"UHD WHOLESALE\", ...</td>\n",
       "    </tr>\n",
       "    <tr>\n",
       "      <th>2</th>\n",
       "      <td>348f344247b0c1a935b1223072ef9d8a</td>\n",
       "      <td>CLASSIC TOY TRAIN SET TRACK CARRIAGES LIGHT EN...</td>\n",
       "      <td>ccf</td>\n",
       "      <td>£9.99</td>\n",
       "      <td>2 new</td>\n",
       "      <td>17</td>\n",
       "      <td>2.0</td>\n",
       "      <td>3.9 out of 5 stars</td>\n",
       "      <td>Hobbies &gt; Model Trains &amp; Railway Sets &gt; Rail V...</td>\n",
       "      <td>http://www.amazon.co.uk/Classic-Train-Lights-B...</td>\n",
       "      <td>BIG CLASSIC TOY TRAIN SET TRACK CARRIAGE LIGHT...</td>\n",
       "      <td>Technical Details Manufacturer recommended age...</td>\n",
       "      <td>BIG CLASSIC TOY TRAIN SET TRACK CARRIAGE LIGHT...</td>\n",
       "      <td>http://www.amazon.co.uk/Train-With-Tracks-Batt...</td>\n",
       "      <td>What is the gauge of the track // Hi Paul.Trut...</td>\n",
       "      <td>**Highly Recommended!** // 5.0 // 26 May 2015 ...</td>\n",
       "      <td>{\"seller\"=&gt;[{\"Seller_name_1\"=&gt;\"DEAL-BOX\", \"Sel...</td>\n",
       "    </tr>\n",
       "    <tr>\n",
       "      <th>3</th>\n",
       "      <td>e12b92dbb8eaee78b22965d2a9bbbd9f</td>\n",
       "      <td>HORNBY Coach R4410A BR Hawksworth Corridor 3rd</td>\n",
       "      <td>Hornby</td>\n",
       "      <td>£39.99</td>\n",
       "      <td>NaN</td>\n",
       "      <td>1</td>\n",
       "      <td>2.0</td>\n",
       "      <td>5.0 out of 5 stars</td>\n",
       "      <td>Hobbies &gt; Model Trains &amp; Railway Sets &gt; Rail V...</td>\n",
       "      <td>NaN</td>\n",
       "      <td>Hornby 00 Gauge BR Hawksworth 3rd Class W 2107...</td>\n",
       "      <td>Technical Details Item Weight259 g Product Dim...</td>\n",
       "      <td>Hornby 00 Gauge BR Hawksworth 3rd Class W 2107...</td>\n",
       "      <td>NaN</td>\n",
       "      <td>NaN</td>\n",
       "      <td>I love it // 5.0 // 22 July 2013 // By\\n    \\n...</td>\n",
       "      <td>NaN</td>\n",
       "    </tr>\n",
       "    <tr>\n",
       "      <th>4</th>\n",
       "      <td>e33a9adeed5f36840ccc227db4682a36</td>\n",
       "      <td>Hornby 00 Gauge 0-4-0 Gildenlow Salt Co. Steam...</td>\n",
       "      <td>Hornby</td>\n",
       "      <td>£32.19</td>\n",
       "      <td>NaN</td>\n",
       "      <td>3</td>\n",
       "      <td>2.0</td>\n",
       "      <td>4.7 out of 5 stars</td>\n",
       "      <td>Hobbies &gt; Model Trains &amp; Railway Sets &gt; Rail V...</td>\n",
       "      <td>http://www.amazon.co.uk/Hornby-R6367-RailRoad-...</td>\n",
       "      <td>Product Description Hornby RailRoad 0-4-0 Gild...</td>\n",
       "      <td>Technical Details Item Weight159 g Product Dim...</td>\n",
       "      <td>Product Description Hornby RailRoad 0-4-0 Gild...</td>\n",
       "      <td>http://www.amazon.co.uk/Hornby-R2672-RailRoad-...</td>\n",
       "      <td>NaN</td>\n",
       "      <td>Birthday present // 5.0 // 14 April 2014 // By...</td>\n",
       "      <td>NaN</td>\n",
       "    </tr>\n",
       "  </tbody>\n",
       "</table>\n",
       "</div>"
      ],
      "text/plain": [
       "                            uniq_id  \\\n",
       "0  eac7efa5dbd3d667f26eb3d3ab504464   \n",
       "1  b17540ef7e86e461d37f3ae58b7b72ac   \n",
       "2  348f344247b0c1a935b1223072ef9d8a   \n",
       "3  e12b92dbb8eaee78b22965d2a9bbbd9f   \n",
       "4  e33a9adeed5f36840ccc227db4682a36   \n",
       "\n",
       "                                        product_name manufacturer   price  \\\n",
       "0                              Hornby 2014 Catalogue       Hornby   £3.42   \n",
       "1  FunkyBuys® Large Christmas Holiday Express Fes...    FunkyBuys  £16.99   \n",
       "2  CLASSIC TOY TRAIN SET TRACK CARRIAGES LIGHT EN...          ccf   £9.99   \n",
       "3     HORNBY Coach R4410A BR Hawksworth Corridor 3rd       Hornby  £39.99   \n",
       "4  Hornby 00 Gauge 0-4-0 Gildenlow Salt Co. Steam...       Hornby  £32.19   \n",
       "\n",
       "  number_available_in_stock number_of_reviews  number_of_answered_questions  \\\n",
       "0                     5 new                15                           1.0   \n",
       "1                       NaN                 2                           1.0   \n",
       "2                     2 new                17                           2.0   \n",
       "3                       NaN                 1                           2.0   \n",
       "4                       NaN                 3                           2.0   \n",
       "\n",
       "  average_review_rating                   amazon_category_and_sub_category  \\\n",
       "0    4.9 out of 5 stars  Hobbies > Model Trains & Railway Sets > Rail V...   \n",
       "1    4.5 out of 5 stars  Hobbies > Model Trains & Railway Sets > Rail V...   \n",
       "2    3.9 out of 5 stars  Hobbies > Model Trains & Railway Sets > Rail V...   \n",
       "3    5.0 out of 5 stars  Hobbies > Model Trains & Railway Sets > Rail V...   \n",
       "4    4.7 out of 5 stars  Hobbies > Model Trains & Railway Sets > Rail V...   \n",
       "\n",
       "          customers_who_bought_this_item_also_bought  \\\n",
       "0  http://www.amazon.co.uk/Hornby-R8150-Catalogue...   \n",
       "1  http://www.amazon.co.uk/Christmas-Holiday-Expr...   \n",
       "2  http://www.amazon.co.uk/Classic-Train-Lights-B...   \n",
       "3                                                NaN   \n",
       "4  http://www.amazon.co.uk/Hornby-R6367-RailRoad-...   \n",
       "\n",
       "                                         description  \\\n",
       "0  Product Description Hornby 2014 Catalogue Box ...   \n",
       "1  Size Name:Large FunkyBuys® Large Christmas Hol...   \n",
       "2  BIG CLASSIC TOY TRAIN SET TRACK CARRIAGE LIGHT...   \n",
       "3  Hornby 00 Gauge BR Hawksworth 3rd Class W 2107...   \n",
       "4  Product Description Hornby RailRoad 0-4-0 Gild...   \n",
       "\n",
       "                                 product_information  \\\n",
       "0  Technical Details Item Weight640 g Product Dim...   \n",
       "1  Technical Details Manufacturer recommended age...   \n",
       "2  Technical Details Manufacturer recommended age...   \n",
       "3  Technical Details Item Weight259 g Product Dim...   \n",
       "4  Technical Details Item Weight159 g Product Dim...   \n",
       "\n",
       "                                 product_description  \\\n",
       "0  Product Description Hornby 2014 Catalogue Box ...   \n",
       "1  Size Name:Large FunkyBuys® Large Christmas Hol...   \n",
       "2  BIG CLASSIC TOY TRAIN SET TRACK CARRIAGE LIGHT...   \n",
       "3  Hornby 00 Gauge BR Hawksworth 3rd Class W 2107...   \n",
       "4  Product Description Hornby RailRoad 0-4-0 Gild...   \n",
       "\n",
       "         items_customers_buy_after_viewing_this_item  \\\n",
       "0  http://www.amazon.co.uk/Hornby-R8150-Catalogue...   \n",
       "1  http://www.amazon.co.uk/Christmas-Holiday-Expr...   \n",
       "2  http://www.amazon.co.uk/Train-With-Tracks-Batt...   \n",
       "3                                                NaN   \n",
       "4  http://www.amazon.co.uk/Hornby-R2672-RailRoad-...   \n",
       "\n",
       "                      customer_questions_and_answers  \\\n",
       "0  Does this catalogue detail all the previous Ho...   \n",
       "1  can you turn off sounds // hi no you cant turn...   \n",
       "2  What is the gauge of the track // Hi Paul.Trut...   \n",
       "3                                                NaN   \n",
       "4                                                NaN   \n",
       "\n",
       "                                    customer_reviews  \\\n",
       "0  Worth Buying For The Pictures Alone (As Ever) ...   \n",
       "1  Four Stars // 4.0 // 18 Dec. 2015 // By\\n    \\...   \n",
       "2  **Highly Recommended!** // 5.0 // 26 May 2015 ...   \n",
       "3  I love it // 5.0 // 22 July 2013 // By\\n    \\n...   \n",
       "4  Birthday present // 5.0 // 14 April 2014 // By...   \n",
       "\n",
       "                                             sellers  \n",
       "0  {\"seller\"=>[{\"Seller_name_1\"=>\"Amazon.co.uk\", ...  \n",
       "1  {\"seller\"=>{\"Seller_name_1\"=>\"UHD WHOLESALE\", ...  \n",
       "2  {\"seller\"=>[{\"Seller_name_1\"=>\"DEAL-BOX\", \"Sel...  \n",
       "3                                                NaN  \n",
       "4                                                NaN  "
      ]
     },
     "execution_count": 4,
     "metadata": {},
     "output_type": "execute_result"
    }
   ],
   "source": [
    "df_amazon.head()"
   ]
  },
  {
   "cell_type": "code",
   "execution_count": 5,
   "id": "6f016e10",
   "metadata": {
    "scrolled": false
   },
   "outputs": [
    {
     "name": "stdout",
     "output_type": "stream",
     "text": [
      "<class 'pandas.core.frame.DataFrame'>\n",
      "RangeIndex: 10000 entries, 0 to 9999\n",
      "Data columns (total 17 columns):\n",
      " #   Column                                       Non-Null Count  Dtype  \n",
      "---  ------                                       --------------  -----  \n",
      " 0   uniq_id                                      10000 non-null  object \n",
      " 1   product_name                                 10000 non-null  object \n",
      " 2   manufacturer                                 9993 non-null   object \n",
      " 3   price                                        8565 non-null   object \n",
      " 4   number_available_in_stock                    7500 non-null   object \n",
      " 5   number_of_reviews                            9982 non-null   object \n",
      " 6   number_of_answered_questions                 9235 non-null   float64\n",
      " 7   average_review_rating                        9982 non-null   object \n",
      " 8   amazon_category_and_sub_category             9310 non-null   object \n",
      " 9   customers_who_bought_this_item_also_bought   8938 non-null   object \n",
      " 10  description                                  9349 non-null   object \n",
      " 11  product_information                          9942 non-null   object \n",
      " 12  product_description                          9349 non-null   object \n",
      " 13  items_customers_buy_after_viewing_this_item  6935 non-null   object \n",
      " 14  customer_questions_and_answers               914 non-null    object \n",
      " 15  customer_reviews                             9979 non-null   object \n",
      " 16  sellers                                      6918 non-null   object \n",
      "dtypes: float64(1), object(16)\n",
      "memory usage: 1.3+ MB\n"
     ]
    }
   ],
   "source": [
    "df_amazon.info()"
   ]
  },
  {
   "cell_type": "code",
   "execution_count": 6,
   "id": "796584cd",
   "metadata": {},
   "outputs": [
    {
     "data": {
      "text/plain": [
       "(10000, 17)"
      ]
     },
     "execution_count": 6,
     "metadata": {},
     "output_type": "execute_result"
    }
   ],
   "source": [
    "df_amazon.shape"
   ]
  },
  {
   "cell_type": "markdown",
   "id": "dca0f4e7",
   "metadata": {},
   "source": [
    "<a id='3.4'></a>\n",
    "## 3.4. Descriptive Statistics"
   ]
  },
  {
   "cell_type": "code",
   "execution_count": 7,
   "id": "1c1a8419",
   "metadata": {},
   "outputs": [
    {
     "data": {
      "text/html": [
       "<div>\n",
       "<style scoped>\n",
       "    .dataframe tbody tr th:only-of-type {\n",
       "        vertical-align: middle;\n",
       "    }\n",
       "\n",
       "    .dataframe tbody tr th {\n",
       "        vertical-align: top;\n",
       "    }\n",
       "\n",
       "    .dataframe thead th {\n",
       "        text-align: right;\n",
       "    }\n",
       "</style>\n",
       "<table border=\"1\" class=\"dataframe\">\n",
       "  <thead>\n",
       "    <tr style=\"text-align: right;\">\n",
       "      <th></th>\n",
       "      <th>uniq_id</th>\n",
       "      <th>product_name</th>\n",
       "      <th>manufacturer</th>\n",
       "      <th>price</th>\n",
       "      <th>number_available_in_stock</th>\n",
       "      <th>number_of_reviews</th>\n",
       "      <th>number_of_answered_questions</th>\n",
       "      <th>average_review_rating</th>\n",
       "      <th>amazon_category_and_sub_category</th>\n",
       "      <th>customers_who_bought_this_item_also_bought</th>\n",
       "      <th>description</th>\n",
       "      <th>product_information</th>\n",
       "      <th>product_description</th>\n",
       "      <th>items_customers_buy_after_viewing_this_item</th>\n",
       "      <th>customer_questions_and_answers</th>\n",
       "      <th>customer_reviews</th>\n",
       "      <th>sellers</th>\n",
       "    </tr>\n",
       "  </thead>\n",
       "  <tbody>\n",
       "    <tr>\n",
       "      <th>count</th>\n",
       "      <td>10000</td>\n",
       "      <td>10000</td>\n",
       "      <td>9993</td>\n",
       "      <td>8565</td>\n",
       "      <td>7500</td>\n",
       "      <td>9982</td>\n",
       "      <td>9235.000000</td>\n",
       "      <td>9982</td>\n",
       "      <td>9310</td>\n",
       "      <td>8938</td>\n",
       "      <td>9349</td>\n",
       "      <td>9942</td>\n",
       "      <td>9349</td>\n",
       "      <td>6935</td>\n",
       "      <td>914</td>\n",
       "      <td>9979</td>\n",
       "      <td>6918</td>\n",
       "    </tr>\n",
       "    <tr>\n",
       "      <th>unique</th>\n",
       "      <td>10000</td>\n",
       "      <td>9964</td>\n",
       "      <td>2651</td>\n",
       "      <td>2625</td>\n",
       "      <td>89</td>\n",
       "      <td>194</td>\n",
       "      <td>NaN</td>\n",
       "      <td>19</td>\n",
       "      <td>255</td>\n",
       "      <td>8755</td>\n",
       "      <td>8514</td>\n",
       "      <td>9939</td>\n",
       "      <td>8514</td>\n",
       "      <td>6749</td>\n",
       "      <td>910</td>\n",
       "      <td>9901</td>\n",
       "      <td>6581</td>\n",
       "    </tr>\n",
       "    <tr>\n",
       "      <th>top</th>\n",
       "      <td>eac7efa5dbd3d667f26eb3d3ab504464</td>\n",
       "      <td>Polyhedral Dice</td>\n",
       "      <td>LEGO</td>\n",
       "      <td>£9.99</td>\n",
       "      <td>2 new</td>\n",
       "      <td>1</td>\n",
       "      <td>NaN</td>\n",
       "      <td>5.0 out of 5 stars</td>\n",
       "      <td>Die-Cast &amp; Toy Vehicles &gt; Toy Vehicles &amp; Acces...</td>\n",
       "      <td>http://www.amazon.co.uk/Scalextric | http://ww...</td>\n",
       "      <td>Welcome to k2, we offer combined items postage...</td>\n",
       "      <td>Technical Details Manufacturer recommended age...</td>\n",
       "      <td>Welcome to k2, we offer combined items postage...</td>\n",
       "      <td>http://www.amazon.co.uk/Scalextric | http://ww...</td>\n",
       "      <td>Is it 12 days or 24? // 24</td>\n",
       "      <td>Five Stars // 5.0 // 1 Feb. 2015 // By\\n    \\n...</td>\n",
       "      <td>{\"seller\"=&gt;{\"Seller_name_1\"=&gt;\"k2-accessories\",...</td>\n",
       "    </tr>\n",
       "    <tr>\n",
       "      <th>freq</th>\n",
       "      <td>1</td>\n",
       "      <td>3</td>\n",
       "      <td>171</td>\n",
       "      <td>189</td>\n",
       "      <td>1337</td>\n",
       "      <td>4315</td>\n",
       "      <td>NaN</td>\n",
       "      <td>5140</td>\n",
       "      <td>880</td>\n",
       "      <td>60</td>\n",
       "      <td>113</td>\n",
       "      <td>2</td>\n",
       "      <td>113</td>\n",
       "      <td>38</td>\n",
       "      <td>2</td>\n",
       "      <td>5</td>\n",
       "      <td>27</td>\n",
       "    </tr>\n",
       "    <tr>\n",
       "      <th>mean</th>\n",
       "      <td>NaN</td>\n",
       "      <td>NaN</td>\n",
       "      <td>NaN</td>\n",
       "      <td>NaN</td>\n",
       "      <td>NaN</td>\n",
       "      <td>NaN</td>\n",
       "      <td>1.834976</td>\n",
       "      <td>NaN</td>\n",
       "      <td>NaN</td>\n",
       "      <td>NaN</td>\n",
       "      <td>NaN</td>\n",
       "      <td>NaN</td>\n",
       "      <td>NaN</td>\n",
       "      <td>NaN</td>\n",
       "      <td>NaN</td>\n",
       "      <td>NaN</td>\n",
       "      <td>NaN</td>\n",
       "    </tr>\n",
       "    <tr>\n",
       "      <th>std</th>\n",
       "      <td>NaN</td>\n",
       "      <td>NaN</td>\n",
       "      <td>NaN</td>\n",
       "      <td>NaN</td>\n",
       "      <td>NaN</td>\n",
       "      <td>NaN</td>\n",
       "      <td>2.517268</td>\n",
       "      <td>NaN</td>\n",
       "      <td>NaN</td>\n",
       "      <td>NaN</td>\n",
       "      <td>NaN</td>\n",
       "      <td>NaN</td>\n",
       "      <td>NaN</td>\n",
       "      <td>NaN</td>\n",
       "      <td>NaN</td>\n",
       "      <td>NaN</td>\n",
       "      <td>NaN</td>\n",
       "    </tr>\n",
       "    <tr>\n",
       "      <th>min</th>\n",
       "      <td>NaN</td>\n",
       "      <td>NaN</td>\n",
       "      <td>NaN</td>\n",
       "      <td>NaN</td>\n",
       "      <td>NaN</td>\n",
       "      <td>NaN</td>\n",
       "      <td>1.000000</td>\n",
       "      <td>NaN</td>\n",
       "      <td>NaN</td>\n",
       "      <td>NaN</td>\n",
       "      <td>NaN</td>\n",
       "      <td>NaN</td>\n",
       "      <td>NaN</td>\n",
       "      <td>NaN</td>\n",
       "      <td>NaN</td>\n",
       "      <td>NaN</td>\n",
       "      <td>NaN</td>\n",
       "    </tr>\n",
       "    <tr>\n",
       "      <th>25%</th>\n",
       "      <td>NaN</td>\n",
       "      <td>NaN</td>\n",
       "      <td>NaN</td>\n",
       "      <td>NaN</td>\n",
       "      <td>NaN</td>\n",
       "      <td>NaN</td>\n",
       "      <td>1.000000</td>\n",
       "      <td>NaN</td>\n",
       "      <td>NaN</td>\n",
       "      <td>NaN</td>\n",
       "      <td>NaN</td>\n",
       "      <td>NaN</td>\n",
       "      <td>NaN</td>\n",
       "      <td>NaN</td>\n",
       "      <td>NaN</td>\n",
       "      <td>NaN</td>\n",
       "      <td>NaN</td>\n",
       "    </tr>\n",
       "    <tr>\n",
       "      <th>50%</th>\n",
       "      <td>NaN</td>\n",
       "      <td>NaN</td>\n",
       "      <td>NaN</td>\n",
       "      <td>NaN</td>\n",
       "      <td>NaN</td>\n",
       "      <td>NaN</td>\n",
       "      <td>1.000000</td>\n",
       "      <td>NaN</td>\n",
       "      <td>NaN</td>\n",
       "      <td>NaN</td>\n",
       "      <td>NaN</td>\n",
       "      <td>NaN</td>\n",
       "      <td>NaN</td>\n",
       "      <td>NaN</td>\n",
       "      <td>NaN</td>\n",
       "      <td>NaN</td>\n",
       "      <td>NaN</td>\n",
       "    </tr>\n",
       "    <tr>\n",
       "      <th>75%</th>\n",
       "      <td>NaN</td>\n",
       "      <td>NaN</td>\n",
       "      <td>NaN</td>\n",
       "      <td>NaN</td>\n",
       "      <td>NaN</td>\n",
       "      <td>NaN</td>\n",
       "      <td>2.000000</td>\n",
       "      <td>NaN</td>\n",
       "      <td>NaN</td>\n",
       "      <td>NaN</td>\n",
       "      <td>NaN</td>\n",
       "      <td>NaN</td>\n",
       "      <td>NaN</td>\n",
       "      <td>NaN</td>\n",
       "      <td>NaN</td>\n",
       "      <td>NaN</td>\n",
       "      <td>NaN</td>\n",
       "    </tr>\n",
       "    <tr>\n",
       "      <th>max</th>\n",
       "      <td>NaN</td>\n",
       "      <td>NaN</td>\n",
       "      <td>NaN</td>\n",
       "      <td>NaN</td>\n",
       "      <td>NaN</td>\n",
       "      <td>NaN</td>\n",
       "      <td>39.000000</td>\n",
       "      <td>NaN</td>\n",
       "      <td>NaN</td>\n",
       "      <td>NaN</td>\n",
       "      <td>NaN</td>\n",
       "      <td>NaN</td>\n",
       "      <td>NaN</td>\n",
       "      <td>NaN</td>\n",
       "      <td>NaN</td>\n",
       "      <td>NaN</td>\n",
       "      <td>NaN</td>\n",
       "    </tr>\n",
       "  </tbody>\n",
       "</table>\n",
       "</div>"
      ],
      "text/plain": [
       "                                 uniq_id     product_name manufacturer  price  \\\n",
       "count                              10000            10000         9993   8565   \n",
       "unique                             10000             9964         2651   2625   \n",
       "top     eac7efa5dbd3d667f26eb3d3ab504464  Polyhedral Dice         LEGO  £9.99   \n",
       "freq                                   1                3          171    189   \n",
       "mean                                 NaN              NaN          NaN    NaN   \n",
       "std                                  NaN              NaN          NaN    NaN   \n",
       "min                                  NaN              NaN          NaN    NaN   \n",
       "25%                                  NaN              NaN          NaN    NaN   \n",
       "50%                                  NaN              NaN          NaN    NaN   \n",
       "75%                                  NaN              NaN          NaN    NaN   \n",
       "max                                  NaN              NaN          NaN    NaN   \n",
       "\n",
       "       number_available_in_stock number_of_reviews  \\\n",
       "count                       7500              9982   \n",
       "unique                        89               194   \n",
       "top                        2 new                 1   \n",
       "freq                        1337              4315   \n",
       "mean                         NaN               NaN   \n",
       "std                          NaN               NaN   \n",
       "min                          NaN               NaN   \n",
       "25%                          NaN               NaN   \n",
       "50%                          NaN               NaN   \n",
       "75%                          NaN               NaN   \n",
       "max                          NaN               NaN   \n",
       "\n",
       "        number_of_answered_questions average_review_rating  \\\n",
       "count                    9235.000000                  9982   \n",
       "unique                           NaN                    19   \n",
       "top                              NaN    5.0 out of 5 stars   \n",
       "freq                             NaN                  5140   \n",
       "mean                        1.834976                   NaN   \n",
       "std                         2.517268                   NaN   \n",
       "min                         1.000000                   NaN   \n",
       "25%                         1.000000                   NaN   \n",
       "50%                         1.000000                   NaN   \n",
       "75%                         2.000000                   NaN   \n",
       "max                        39.000000                   NaN   \n",
       "\n",
       "                         amazon_category_and_sub_category  \\\n",
       "count                                                9310   \n",
       "unique                                                255   \n",
       "top     Die-Cast & Toy Vehicles > Toy Vehicles & Acces...   \n",
       "freq                                                  880   \n",
       "mean                                                  NaN   \n",
       "std                                                   NaN   \n",
       "min                                                   NaN   \n",
       "25%                                                   NaN   \n",
       "50%                                                   NaN   \n",
       "75%                                                   NaN   \n",
       "max                                                   NaN   \n",
       "\n",
       "               customers_who_bought_this_item_also_bought  \\\n",
       "count                                                8938   \n",
       "unique                                               8755   \n",
       "top     http://www.amazon.co.uk/Scalextric | http://ww...   \n",
       "freq                                                   60   \n",
       "mean                                                  NaN   \n",
       "std                                                   NaN   \n",
       "min                                                   NaN   \n",
       "25%                                                   NaN   \n",
       "50%                                                   NaN   \n",
       "75%                                                   NaN   \n",
       "max                                                   NaN   \n",
       "\n",
       "                                              description  \\\n",
       "count                                                9349   \n",
       "unique                                               8514   \n",
       "top     Welcome to k2, we offer combined items postage...   \n",
       "freq                                                  113   \n",
       "mean                                                  NaN   \n",
       "std                                                   NaN   \n",
       "min                                                   NaN   \n",
       "25%                                                   NaN   \n",
       "50%                                                   NaN   \n",
       "75%                                                   NaN   \n",
       "max                                                   NaN   \n",
       "\n",
       "                                      product_information  \\\n",
       "count                                                9942   \n",
       "unique                                               9939   \n",
       "top     Technical Details Manufacturer recommended age...   \n",
       "freq                                                    2   \n",
       "mean                                                  NaN   \n",
       "std                                                   NaN   \n",
       "min                                                   NaN   \n",
       "25%                                                   NaN   \n",
       "50%                                                   NaN   \n",
       "75%                                                   NaN   \n",
       "max                                                   NaN   \n",
       "\n",
       "                                      product_description  \\\n",
       "count                                                9349   \n",
       "unique                                               8514   \n",
       "top     Welcome to k2, we offer combined items postage...   \n",
       "freq                                                  113   \n",
       "mean                                                  NaN   \n",
       "std                                                   NaN   \n",
       "min                                                   NaN   \n",
       "25%                                                   NaN   \n",
       "50%                                                   NaN   \n",
       "75%                                                   NaN   \n",
       "max                                                   NaN   \n",
       "\n",
       "              items_customers_buy_after_viewing_this_item  \\\n",
       "count                                                6935   \n",
       "unique                                               6749   \n",
       "top     http://www.amazon.co.uk/Scalextric | http://ww...   \n",
       "freq                                                   38   \n",
       "mean                                                  NaN   \n",
       "std                                                   NaN   \n",
       "min                                                   NaN   \n",
       "25%                                                   NaN   \n",
       "50%                                                   NaN   \n",
       "75%                                                   NaN   \n",
       "max                                                   NaN   \n",
       "\n",
       "       customer_questions_and_answers  \\\n",
       "count                             914   \n",
       "unique                            910   \n",
       "top        Is it 12 days or 24? // 24   \n",
       "freq                                2   \n",
       "mean                              NaN   \n",
       "std                               NaN   \n",
       "min                               NaN   \n",
       "25%                               NaN   \n",
       "50%                               NaN   \n",
       "75%                               NaN   \n",
       "max                               NaN   \n",
       "\n",
       "                                         customer_reviews  \\\n",
       "count                                                9979   \n",
       "unique                                               9901   \n",
       "top     Five Stars // 5.0 // 1 Feb. 2015 // By\\n    \\n...   \n",
       "freq                                                    5   \n",
       "mean                                                  NaN   \n",
       "std                                                   NaN   \n",
       "min                                                   NaN   \n",
       "25%                                                   NaN   \n",
       "50%                                                   NaN   \n",
       "75%                                                   NaN   \n",
       "max                                                   NaN   \n",
       "\n",
       "                                                  sellers  \n",
       "count                                                6918  \n",
       "unique                                               6581  \n",
       "top     {\"seller\"=>{\"Seller_name_1\"=>\"k2-accessories\",...  \n",
       "freq                                                   27  \n",
       "mean                                                  NaN  \n",
       "std                                                   NaN  \n",
       "min                                                   NaN  \n",
       "25%                                                   NaN  \n",
       "50%                                                   NaN  \n",
       "75%                                                   NaN  \n",
       "max                                                   NaN  "
      ]
     },
     "execution_count": 7,
     "metadata": {},
     "output_type": "execute_result"
    }
   ],
   "source": [
    "df_amazon.describe(include='all')"
   ]
  },
  {
   "cell_type": "code",
   "execution_count": 8,
   "id": "3105d617",
   "metadata": {},
   "outputs": [
    {
     "data": {
      "text/plain": [
       "uniq_id                                           0\n",
       "product_name                                      0\n",
       "manufacturer                                      7\n",
       "price                                          1435\n",
       "number_available_in_stock                      2500\n",
       "number_of_reviews                                18\n",
       "number_of_answered_questions                    765\n",
       "average_review_rating                            18\n",
       "amazon_category_and_sub_category                690\n",
       "customers_who_bought_this_item_also_bought     1062\n",
       "description                                     651\n",
       "product_information                              58\n",
       "product_description                             651\n",
       "items_customers_buy_after_viewing_this_item    3065\n",
       "customer_questions_and_answers                 9086\n",
       "customer_reviews                                 21\n",
       "sellers                                        3082\n",
       "dtype: int64"
      ]
     },
     "execution_count": 8,
     "metadata": {},
     "output_type": "execute_result"
    }
   ],
   "source": [
    "df_amazon.isnull().sum()"
   ]
  },
  {
   "cell_type": "code",
   "execution_count": 9,
   "id": "22791019",
   "metadata": {},
   "outputs": [
    {
     "data": {
      "text/plain": [
       "Index(['uniq_id', 'product_name', 'manufacturer', 'price',\n",
       "       'number_available_in_stock', 'number_of_reviews',\n",
       "       'number_of_answered_questions', 'average_review_rating',\n",
       "       'amazon_category_and_sub_category',\n",
       "       'customers_who_bought_this_item_also_bought', 'description',\n",
       "       'product_information', 'product_description',\n",
       "       'items_customers_buy_after_viewing_this_item',\n",
       "       'customer_questions_and_answers', 'customer_reviews', 'sellers'],\n",
       "      dtype='object')"
      ]
     },
     "execution_count": 9,
     "metadata": {},
     "output_type": "execute_result"
    }
   ],
   "source": [
    "df_amazon.columns"
   ]
  },
  {
   "cell_type": "code",
   "execution_count": null,
   "id": "4e3125f0",
   "metadata": {},
   "outputs": [],
   "source": []
  },
  {
   "cell_type": "markdown",
   "id": "9bb0adce",
   "metadata": {},
   "source": [
    "<a id='3.5'></a>\n",
    "## 3.5. Data Visualization"
   ]
  },
  {
   "cell_type": "code",
   "execution_count": null,
   "id": "46fb1e34",
   "metadata": {},
   "outputs": [],
   "source": []
  },
  {
   "cell_type": "code",
   "execution_count": null,
   "id": "eb110573",
   "metadata": {},
   "outputs": [],
   "source": []
  },
  {
   "cell_type": "markdown",
   "id": "f8693add",
   "metadata": {},
   "source": [
    "# Data Preparation"
   ]
  },
  {
   "cell_type": "markdown",
   "id": "b850d69d",
   "metadata": {},
   "source": [
    "First I will remove all line breaks, '_' or '__' symbols, and double spaces or more."
   ]
  },
  {
   "cell_type": "code",
   "execution_count": 10,
   "id": "43991886",
   "metadata": {},
   "outputs": [
    {
     "data": {
      "text/html": [
       "<div>\n",
       "<style scoped>\n",
       "    .dataframe tbody tr th:only-of-type {\n",
       "        vertical-align: middle;\n",
       "    }\n",
       "\n",
       "    .dataframe tbody tr th {\n",
       "        vertical-align: top;\n",
       "    }\n",
       "\n",
       "    .dataframe thead th {\n",
       "        text-align: right;\n",
       "    }\n",
       "</style>\n",
       "<table border=\"1\" class=\"dataframe\">\n",
       "  <thead>\n",
       "    <tr style=\"text-align: right;\">\n",
       "      <th></th>\n",
       "      <th>uniq_id</th>\n",
       "      <th>product_name</th>\n",
       "      <th>manufacturer</th>\n",
       "      <th>price</th>\n",
       "      <th>number_available_in_stock</th>\n",
       "      <th>number_of_reviews</th>\n",
       "      <th>number_of_answered_questions</th>\n",
       "      <th>average_review_rating</th>\n",
       "      <th>amazon_category_and_sub_category</th>\n",
       "      <th>customers_who_bought_this_item_also_bought</th>\n",
       "      <th>description</th>\n",
       "      <th>product_information</th>\n",
       "      <th>product_description</th>\n",
       "      <th>items_customers_buy_after_viewing_this_item</th>\n",
       "      <th>customer_questions_and_answers</th>\n",
       "      <th>customer_reviews</th>\n",
       "      <th>sellers</th>\n",
       "    </tr>\n",
       "  </thead>\n",
       "  <tbody>\n",
       "    <tr>\n",
       "      <th>0</th>\n",
       "      <td>eac7efa5dbd3d667f26eb3d3ab504464</td>\n",
       "      <td>Hornby 2014 Catalogue</td>\n",
       "      <td>Hornby</td>\n",
       "      <td>£3.42</td>\n",
       "      <td>5 new</td>\n",
       "      <td>15</td>\n",
       "      <td>1.0</td>\n",
       "      <td>4.9 out of 5 stars</td>\n",
       "      <td>Hobbies &gt; Model Trains &amp; Railway Sets &gt; Rail V...</td>\n",
       "      <td>http://www.amazon.co.uk/Hornby-R8150-Catalogue...</td>\n",
       "      <td>Product Description Hornby 2014 Catalogue Box ...</td>\n",
       "      <td>Technical Details Item Weight640 g Product Dim...</td>\n",
       "      <td>Product Description Hornby 2014 Catalogue Box ...</td>\n",
       "      <td>http://www.amazon.co.uk/Hornby-R8150-Catalogue...</td>\n",
       "      <td>Does this catalogue detail all the previous Ho...</td>\n",
       "      <td>Worth Buying For The Pictures Alone (As Ever) ...</td>\n",
       "      <td>{\"seller\"=&gt;[{\"Seller name 1\"=&gt;\"Amazon.co.uk\", ...</td>\n",
       "    </tr>\n",
       "    <tr>\n",
       "      <th>1</th>\n",
       "      <td>b17540ef7e86e461d37f3ae58b7b72ac</td>\n",
       "      <td>FunkyBuys® Large Christmas Holiday Express Fes...</td>\n",
       "      <td>FunkyBuys</td>\n",
       "      <td>£16.99</td>\n",
       "      <td>NaN</td>\n",
       "      <td>2</td>\n",
       "      <td>1.0</td>\n",
       "      <td>4.5 out of 5 stars</td>\n",
       "      <td>Hobbies &gt; Model Trains &amp; Railway Sets &gt; Rail V...</td>\n",
       "      <td>http://www.amazon.co.uk/Christmas-Holiday-Expr...</td>\n",
       "      <td>Size Name:Large FunkyBuys® Large Christmas Hol...</td>\n",
       "      <td>Technical Details Manufacturer recommended age...</td>\n",
       "      <td>Size Name:Large FunkyBuys® Large Christmas Hol...</td>\n",
       "      <td>http://www.amazon.co.uk/Christmas-Holiday-Expr...</td>\n",
       "      <td>can you turn off sounds // hi no you cant turn...</td>\n",
       "      <td>Four Stars // 4.0 // 18 Dec. 2015 // By kennet...</td>\n",
       "      <td>{\"seller\"=&gt;{\"Seller name 1\"=&gt;\"UHD WHOLESALE\", ...</td>\n",
       "    </tr>\n",
       "    <tr>\n",
       "      <th>2</th>\n",
       "      <td>348f344247b0c1a935b1223072ef9d8a</td>\n",
       "      <td>CLASSIC TOY TRAIN SET TRACK CARRIAGES LIGHT EN...</td>\n",
       "      <td>ccf</td>\n",
       "      <td>£9.99</td>\n",
       "      <td>2 new</td>\n",
       "      <td>17</td>\n",
       "      <td>2.0</td>\n",
       "      <td>3.9 out of 5 stars</td>\n",
       "      <td>Hobbies &gt; Model Trains &amp; Railway Sets &gt; Rail V...</td>\n",
       "      <td>http://www.amazon.co.uk/Classic-Train-Lights-B...</td>\n",
       "      <td>BIG CLASSIC TOY TRAIN SET TRACK CARRIAGE LIGHT...</td>\n",
       "      <td>Technical Details Manufacturer recommended age...</td>\n",
       "      <td>BIG CLASSIC TOY TRAIN SET TRACK CARRIAGE LIGHT...</td>\n",
       "      <td>http://www.amazon.co.uk/Train-With-Tracks-Batt...</td>\n",
       "      <td>What is the gauge of the track // Hi Paul.Trut...</td>\n",
       "      <td>**Highly Recommended!** // 5.0 // 26 May 2015 ...</td>\n",
       "      <td>{\"seller\"=&gt;[{\"Seller name 1\"=&gt;\"DEAL-BOX\", \"Sel...</td>\n",
       "    </tr>\n",
       "    <tr>\n",
       "      <th>3</th>\n",
       "      <td>e12b92dbb8eaee78b22965d2a9bbbd9f</td>\n",
       "      <td>HORNBY Coach R4410A BR Hawksworth Corridor 3rd</td>\n",
       "      <td>Hornby</td>\n",
       "      <td>£39.99</td>\n",
       "      <td>NaN</td>\n",
       "      <td>1</td>\n",
       "      <td>2.0</td>\n",
       "      <td>5.0 out of 5 stars</td>\n",
       "      <td>Hobbies &gt; Model Trains &amp; Railway Sets &gt; Rail V...</td>\n",
       "      <td>NaN</td>\n",
       "      <td>Hornby 00 Gauge BR Hawksworth 3rd Class W 2107...</td>\n",
       "      <td>Technical Details Item Weight259 g Product Dim...</td>\n",
       "      <td>Hornby 00 Gauge BR Hawksworth 3rd Class W 2107...</td>\n",
       "      <td>NaN</td>\n",
       "      <td>NaN</td>\n",
       "      <td>I love it // 5.0 // 22 July 2013 // By Lilla L...</td>\n",
       "      <td>NaN</td>\n",
       "    </tr>\n",
       "    <tr>\n",
       "      <th>4</th>\n",
       "      <td>e33a9adeed5f36840ccc227db4682a36</td>\n",
       "      <td>Hornby 00 Gauge 0-4-0 Gildenlow Salt Co. Steam...</td>\n",
       "      <td>Hornby</td>\n",
       "      <td>£32.19</td>\n",
       "      <td>NaN</td>\n",
       "      <td>3</td>\n",
       "      <td>2.0</td>\n",
       "      <td>4.7 out of 5 stars</td>\n",
       "      <td>Hobbies &gt; Model Trains &amp; Railway Sets &gt; Rail V...</td>\n",
       "      <td>http://www.amazon.co.uk/Hornby-R6367-RailRoad-...</td>\n",
       "      <td>Product Description Hornby RailRoad 0-4-0 Gild...</td>\n",
       "      <td>Technical Details Item Weight159 g Product Dim...</td>\n",
       "      <td>Product Description Hornby RailRoad 0-4-0 Gild...</td>\n",
       "      <td>http://www.amazon.co.uk/Hornby-R2672-RailRoad-...</td>\n",
       "      <td>NaN</td>\n",
       "      <td>Birthday present // 5.0 // 14 April 2014 // By...</td>\n",
       "      <td>NaN</td>\n",
       "    </tr>\n",
       "  </tbody>\n",
       "</table>\n",
       "</div>"
      ],
      "text/plain": [
       "                            uniq_id  \\\n",
       "0  eac7efa5dbd3d667f26eb3d3ab504464   \n",
       "1  b17540ef7e86e461d37f3ae58b7b72ac   \n",
       "2  348f344247b0c1a935b1223072ef9d8a   \n",
       "3  e12b92dbb8eaee78b22965d2a9bbbd9f   \n",
       "4  e33a9adeed5f36840ccc227db4682a36   \n",
       "\n",
       "                                        product_name manufacturer   price  \\\n",
       "0                              Hornby 2014 Catalogue       Hornby   £3.42   \n",
       "1  FunkyBuys® Large Christmas Holiday Express Fes...    FunkyBuys  £16.99   \n",
       "2  CLASSIC TOY TRAIN SET TRACK CARRIAGES LIGHT EN...          ccf   £9.99   \n",
       "3     HORNBY Coach R4410A BR Hawksworth Corridor 3rd       Hornby  £39.99   \n",
       "4  Hornby 00 Gauge 0-4-0 Gildenlow Salt Co. Steam...       Hornby  £32.19   \n",
       "\n",
       "  number_available_in_stock number_of_reviews  number_of_answered_questions  \\\n",
       "0                     5 new                15                           1.0   \n",
       "1                       NaN                 2                           1.0   \n",
       "2                     2 new                17                           2.0   \n",
       "3                       NaN                 1                           2.0   \n",
       "4                       NaN                 3                           2.0   \n",
       "\n",
       "  average_review_rating                   amazon_category_and_sub_category  \\\n",
       "0    4.9 out of 5 stars  Hobbies > Model Trains & Railway Sets > Rail V...   \n",
       "1    4.5 out of 5 stars  Hobbies > Model Trains & Railway Sets > Rail V...   \n",
       "2    3.9 out of 5 stars  Hobbies > Model Trains & Railway Sets > Rail V...   \n",
       "3    5.0 out of 5 stars  Hobbies > Model Trains & Railway Sets > Rail V...   \n",
       "4    4.7 out of 5 stars  Hobbies > Model Trains & Railway Sets > Rail V...   \n",
       "\n",
       "          customers_who_bought_this_item_also_bought  \\\n",
       "0  http://www.amazon.co.uk/Hornby-R8150-Catalogue...   \n",
       "1  http://www.amazon.co.uk/Christmas-Holiday-Expr...   \n",
       "2  http://www.amazon.co.uk/Classic-Train-Lights-B...   \n",
       "3                                                NaN   \n",
       "4  http://www.amazon.co.uk/Hornby-R6367-RailRoad-...   \n",
       "\n",
       "                                         description  \\\n",
       "0  Product Description Hornby 2014 Catalogue Box ...   \n",
       "1  Size Name:Large FunkyBuys® Large Christmas Hol...   \n",
       "2  BIG CLASSIC TOY TRAIN SET TRACK CARRIAGE LIGHT...   \n",
       "3  Hornby 00 Gauge BR Hawksworth 3rd Class W 2107...   \n",
       "4  Product Description Hornby RailRoad 0-4-0 Gild...   \n",
       "\n",
       "                                 product_information  \\\n",
       "0  Technical Details Item Weight640 g Product Dim...   \n",
       "1  Technical Details Manufacturer recommended age...   \n",
       "2  Technical Details Manufacturer recommended age...   \n",
       "3  Technical Details Item Weight259 g Product Dim...   \n",
       "4  Technical Details Item Weight159 g Product Dim...   \n",
       "\n",
       "                                 product_description  \\\n",
       "0  Product Description Hornby 2014 Catalogue Box ...   \n",
       "1  Size Name:Large FunkyBuys® Large Christmas Hol...   \n",
       "2  BIG CLASSIC TOY TRAIN SET TRACK CARRIAGE LIGHT...   \n",
       "3  Hornby 00 Gauge BR Hawksworth 3rd Class W 2107...   \n",
       "4  Product Description Hornby RailRoad 0-4-0 Gild...   \n",
       "\n",
       "         items_customers_buy_after_viewing_this_item  \\\n",
       "0  http://www.amazon.co.uk/Hornby-R8150-Catalogue...   \n",
       "1  http://www.amazon.co.uk/Christmas-Holiday-Expr...   \n",
       "2  http://www.amazon.co.uk/Train-With-Tracks-Batt...   \n",
       "3                                                NaN   \n",
       "4  http://www.amazon.co.uk/Hornby-R2672-RailRoad-...   \n",
       "\n",
       "                      customer_questions_and_answers  \\\n",
       "0  Does this catalogue detail all the previous Ho...   \n",
       "1  can you turn off sounds // hi no you cant turn...   \n",
       "2  What is the gauge of the track // Hi Paul.Trut...   \n",
       "3                                                NaN   \n",
       "4                                                NaN   \n",
       "\n",
       "                                    customer_reviews  \\\n",
       "0  Worth Buying For The Pictures Alone (As Ever) ...   \n",
       "1  Four Stars // 4.0 // 18 Dec. 2015 // By kennet...   \n",
       "2  **Highly Recommended!** // 5.0 // 26 May 2015 ...   \n",
       "3  I love it // 5.0 // 22 July 2013 // By Lilla L...   \n",
       "4  Birthday present // 5.0 // 14 April 2014 // By...   \n",
       "\n",
       "                                             sellers  \n",
       "0  {\"seller\"=>[{\"Seller name 1\"=>\"Amazon.co.uk\", ...  \n",
       "1  {\"seller\"=>{\"Seller name 1\"=>\"UHD WHOLESALE\", ...  \n",
       "2  {\"seller\"=>[{\"Seller name 1\"=>\"DEAL-BOX\", \"Sel...  \n",
       "3                                                NaN  \n",
       "4                                                NaN  "
      ]
     },
     "execution_count": 10,
     "metadata": {},
     "output_type": "execute_result"
    }
   ],
   "source": [
    "import re\n",
    "\n",
    "def clean_text(text):\n",
    "    if not isinstance(text, str):\n",
    "        return text\n",
    "    # Eliminar saltos de línea\n",
    "    text = text.replace('\\n', ' ')\n",
    "    # Reemplazar '_' y '__' con espacios\n",
    "    text = text.replace('_', ' ')\n",
    "    # Convertir dos o más espacios en uno\n",
    "    text = re.sub(r'\\s{2,}', ' ', text)\n",
    "    return text\n",
    "\n",
    "# Aplicando la función a todas las columnas de texto del DataFrame\n",
    "df_amazon = df_amazon.applymap(clean_text)\n",
    "\n",
    "df_amazon.head()"
   ]
  },
  {
   "cell_type": "markdown",
   "id": "f1d13607",
   "metadata": {},
   "source": [
    "The next step will be to review the 'customer_reviews' column since within this column there are reviews from different users who bought the product from the 'product_name' column and there is also the rating that each user gave to the purchased product and the date on which The review was carried out, we will assume that it is the date on which the user purchased the product. This data will later help us to carry out a sentiment analysis that will help us make better product recommendations and we will also be able to create a database with different transactions, which will be useful to us to make a Market Basket. Analysis.\n",
    "\n",
    "The reviews in the 'customer_reviews' column follow a pattern that includes the review title, the rating (in numeric format followed by '.0'), the date, the word 'By', and then the user's name. (// 4.0 // 6 April 2014 // By Copnovelist on 6 April 2014 //)"
   ]
  },
  {
   "cell_type": "code",
   "execution_count": 13,
   "id": "aaafac16",
   "metadata": {},
   "outputs": [
    {
     "data": {
      "text/html": [
       "<div>\n",
       "<style scoped>\n",
       "    .dataframe tbody tr th:only-of-type {\n",
       "        vertical-align: middle;\n",
       "    }\n",
       "\n",
       "    .dataframe tbody tr th {\n",
       "        vertical-align: top;\n",
       "    }\n",
       "\n",
       "    .dataframe thead th {\n",
       "        text-align: right;\n",
       "    }\n",
       "</style>\n",
       "<table border=\"1\" class=\"dataframe\">\n",
       "  <thead>\n",
       "    <tr style=\"text-align: right;\">\n",
       "      <th></th>\n",
       "      <th>uniq_id</th>\n",
       "      <th>product_name</th>\n",
       "      <th>manufacturer</th>\n",
       "      <th>price</th>\n",
       "      <th>number_available_in_stock</th>\n",
       "      <th>number_of_reviews</th>\n",
       "      <th>number_of_answered_questions</th>\n",
       "      <th>average_review_rating</th>\n",
       "      <th>amazon_category_and_sub_category</th>\n",
       "      <th>customers_who_bought_this_item_also_bought</th>\n",
       "      <th>description</th>\n",
       "      <th>product_information</th>\n",
       "      <th>product_description</th>\n",
       "      <th>items_customers_buy_after_viewing_this_item</th>\n",
       "      <th>customer_questions_and_answers</th>\n",
       "      <th>customer_reviews</th>\n",
       "      <th>sellers</th>\n",
       "      <th>review_rating</th>\n",
       "      <th>review_date</th>\n",
       "      <th>review_author</th>\n",
       "    </tr>\n",
       "  </thead>\n",
       "  <tbody>\n",
       "    <tr>\n",
       "      <th>0</th>\n",
       "      <td>eac7efa5dbd3d667f26eb3d3ab504464</td>\n",
       "      <td>Hornby 2014 Catalogue</td>\n",
       "      <td>Hornby</td>\n",
       "      <td>£3.42</td>\n",
       "      <td>5 new</td>\n",
       "      <td>15</td>\n",
       "      <td>1.0</td>\n",
       "      <td>4.9 out of 5 stars</td>\n",
       "      <td>Hobbies &gt; Model Trains &amp; Railway Sets &gt; Rail V...</td>\n",
       "      <td>http://www.amazon.co.uk/Hornby-R8150-Catalogue...</td>\n",
       "      <td>Product Description Hornby 2014 Catalogue Box ...</td>\n",
       "      <td>Technical Details Item Weight640 g Product Dim...</td>\n",
       "      <td>Product Description Hornby 2014 Catalogue Box ...</td>\n",
       "      <td>http://www.amazon.co.uk/Hornby-R8150-Catalogue...</td>\n",
       "      <td>Does this catalogue detail all the previous Ho...</td>\n",
       "      <td>Worth Buying For The Pictures Alone (As Ever) ...</td>\n",
       "      <td>{\"seller\"=&gt;[{\"Seller name 1\"=&gt;\"Amazon.co.uk\", ...</td>\n",
       "      <td>4.0</td>\n",
       "      <td>6 April 2014</td>\n",
       "      <td>Copnovelist</td>\n",
       "    </tr>\n",
       "    <tr>\n",
       "      <th>0</th>\n",
       "      <td>eac7efa5dbd3d667f26eb3d3ab504464</td>\n",
       "      <td>Hornby 2014 Catalogue</td>\n",
       "      <td>Hornby</td>\n",
       "      <td>£3.42</td>\n",
       "      <td>5 new</td>\n",
       "      <td>15</td>\n",
       "      <td>1.0</td>\n",
       "      <td>4.9 out of 5 stars</td>\n",
       "      <td>Hobbies &gt; Model Trains &amp; Railway Sets &gt; Rail V...</td>\n",
       "      <td>http://www.amazon.co.uk/Hornby-R8150-Catalogue...</td>\n",
       "      <td>Product Description Hornby 2014 Catalogue Box ...</td>\n",
       "      <td>Technical Details Item Weight640 g Product Dim...</td>\n",
       "      <td>Product Description Hornby 2014 Catalogue Box ...</td>\n",
       "      <td>http://www.amazon.co.uk/Hornby-R8150-Catalogue...</td>\n",
       "      <td>Does this catalogue detail all the previous Ho...</td>\n",
       "      <td>Worth Buying For The Pictures Alone (As Ever) ...</td>\n",
       "      <td>{\"seller\"=&gt;[{\"Seller name 1\"=&gt;\"Amazon.co.uk\", ...</td>\n",
       "      <td>5.0</td>\n",
       "      <td>11 April 2015</td>\n",
       "      <td>richard</td>\n",
       "    </tr>\n",
       "    <tr>\n",
       "      <th>0</th>\n",
       "      <td>eac7efa5dbd3d667f26eb3d3ab504464</td>\n",
       "      <td>Hornby 2014 Catalogue</td>\n",
       "      <td>Hornby</td>\n",
       "      <td>£3.42</td>\n",
       "      <td>5 new</td>\n",
       "      <td>15</td>\n",
       "      <td>1.0</td>\n",
       "      <td>4.9 out of 5 stars</td>\n",
       "      <td>Hobbies &gt; Model Trains &amp; Railway Sets &gt; Rail V...</td>\n",
       "      <td>http://www.amazon.co.uk/Hornby-R8150-Catalogue...</td>\n",
       "      <td>Product Description Hornby 2014 Catalogue Box ...</td>\n",
       "      <td>Technical Details Item Weight640 g Product Dim...</td>\n",
       "      <td>Product Description Hornby 2014 Catalogue Box ...</td>\n",
       "      <td>http://www.amazon.co.uk/Hornby-R8150-Catalogue...</td>\n",
       "      <td>Does this catalogue detail all the previous Ho...</td>\n",
       "      <td>Worth Buying For The Pictures Alone (As Ever) ...</td>\n",
       "      <td>{\"seller\"=&gt;[{\"Seller name 1\"=&gt;\"Amazon.co.uk\", ...</td>\n",
       "      <td>5.0</td>\n",
       "      <td>23 April 2014</td>\n",
       "      <td>Pinkhandbag</td>\n",
       "    </tr>\n",
       "    <tr>\n",
       "      <th>0</th>\n",
       "      <td>eac7efa5dbd3d667f26eb3d3ab504464</td>\n",
       "      <td>Hornby 2014 Catalogue</td>\n",
       "      <td>Hornby</td>\n",
       "      <td>£3.42</td>\n",
       "      <td>5 new</td>\n",
       "      <td>15</td>\n",
       "      <td>1.0</td>\n",
       "      <td>4.9 out of 5 stars</td>\n",
       "      <td>Hobbies &gt; Model Trains &amp; Railway Sets &gt; Rail V...</td>\n",
       "      <td>http://www.amazon.co.uk/Hornby-R8150-Catalogue...</td>\n",
       "      <td>Product Description Hornby 2014 Catalogue Box ...</td>\n",
       "      <td>Technical Details Item Weight640 g Product Dim...</td>\n",
       "      <td>Product Description Hornby 2014 Catalogue Box ...</td>\n",
       "      <td>http://www.amazon.co.uk/Hornby-R8150-Catalogue...</td>\n",
       "      <td>Does this catalogue detail all the previous Ho...</td>\n",
       "      <td>Worth Buying For The Pictures Alone (As Ever) ...</td>\n",
       "      <td>{\"seller\"=&gt;[{\"Seller name 1\"=&gt;\"Amazon.co.uk\", ...</td>\n",
       "      <td>5.0</td>\n",
       "      <td>11 Jun. 2014</td>\n",
       "      <td>Gary John Mapson</td>\n",
       "    </tr>\n",
       "    <tr>\n",
       "      <th>0</th>\n",
       "      <td>eac7efa5dbd3d667f26eb3d3ab504464</td>\n",
       "      <td>Hornby 2014 Catalogue</td>\n",
       "      <td>Hornby</td>\n",
       "      <td>£3.42</td>\n",
       "      <td>5 new</td>\n",
       "      <td>15</td>\n",
       "      <td>1.0</td>\n",
       "      <td>4.9 out of 5 stars</td>\n",
       "      <td>Hobbies &gt; Model Trains &amp; Railway Sets &gt; Rail V...</td>\n",
       "      <td>http://www.amazon.co.uk/Hornby-R8150-Catalogue...</td>\n",
       "      <td>Product Description Hornby 2014 Catalogue Box ...</td>\n",
       "      <td>Technical Details Item Weight640 g Product Dim...</td>\n",
       "      <td>Product Description Hornby 2014 Catalogue Box ...</td>\n",
       "      <td>http://www.amazon.co.uk/Hornby-R8150-Catalogue...</td>\n",
       "      <td>Does this catalogue detail all the previous Ho...</td>\n",
       "      <td>Worth Buying For The Pictures Alone (As Ever) ...</td>\n",
       "      <td>{\"seller\"=&gt;[{\"Seller name 1\"=&gt;\"Amazon.co.uk\", ...</td>\n",
       "      <td>5.0</td>\n",
       "      <td>7 Dec. 2014</td>\n",
       "      <td>David Baker</td>\n",
       "    </tr>\n",
       "  </tbody>\n",
       "</table>\n",
       "</div>"
      ],
      "text/plain": [
       "                            uniq_id           product_name manufacturer  \\\n",
       "0  eac7efa5dbd3d667f26eb3d3ab504464  Hornby 2014 Catalogue       Hornby   \n",
       "0  eac7efa5dbd3d667f26eb3d3ab504464  Hornby 2014 Catalogue       Hornby   \n",
       "0  eac7efa5dbd3d667f26eb3d3ab504464  Hornby 2014 Catalogue       Hornby   \n",
       "0  eac7efa5dbd3d667f26eb3d3ab504464  Hornby 2014 Catalogue       Hornby   \n",
       "0  eac7efa5dbd3d667f26eb3d3ab504464  Hornby 2014 Catalogue       Hornby   \n",
       "\n",
       "   price number_available_in_stock number_of_reviews  \\\n",
       "0  £3.42                     5 new                15   \n",
       "0  £3.42                     5 new                15   \n",
       "0  £3.42                     5 new                15   \n",
       "0  £3.42                     5 new                15   \n",
       "0  £3.42                     5 new                15   \n",
       "\n",
       "   number_of_answered_questions average_review_rating  \\\n",
       "0                           1.0    4.9 out of 5 stars   \n",
       "0                           1.0    4.9 out of 5 stars   \n",
       "0                           1.0    4.9 out of 5 stars   \n",
       "0                           1.0    4.9 out of 5 stars   \n",
       "0                           1.0    4.9 out of 5 stars   \n",
       "\n",
       "                    amazon_category_and_sub_category  \\\n",
       "0  Hobbies > Model Trains & Railway Sets > Rail V...   \n",
       "0  Hobbies > Model Trains & Railway Sets > Rail V...   \n",
       "0  Hobbies > Model Trains & Railway Sets > Rail V...   \n",
       "0  Hobbies > Model Trains & Railway Sets > Rail V...   \n",
       "0  Hobbies > Model Trains & Railway Sets > Rail V...   \n",
       "\n",
       "          customers_who_bought_this_item_also_bought  \\\n",
       "0  http://www.amazon.co.uk/Hornby-R8150-Catalogue...   \n",
       "0  http://www.amazon.co.uk/Hornby-R8150-Catalogue...   \n",
       "0  http://www.amazon.co.uk/Hornby-R8150-Catalogue...   \n",
       "0  http://www.amazon.co.uk/Hornby-R8150-Catalogue...   \n",
       "0  http://www.amazon.co.uk/Hornby-R8150-Catalogue...   \n",
       "\n",
       "                                         description  \\\n",
       "0  Product Description Hornby 2014 Catalogue Box ...   \n",
       "0  Product Description Hornby 2014 Catalogue Box ...   \n",
       "0  Product Description Hornby 2014 Catalogue Box ...   \n",
       "0  Product Description Hornby 2014 Catalogue Box ...   \n",
       "0  Product Description Hornby 2014 Catalogue Box ...   \n",
       "\n",
       "                                 product_information  \\\n",
       "0  Technical Details Item Weight640 g Product Dim...   \n",
       "0  Technical Details Item Weight640 g Product Dim...   \n",
       "0  Technical Details Item Weight640 g Product Dim...   \n",
       "0  Technical Details Item Weight640 g Product Dim...   \n",
       "0  Technical Details Item Weight640 g Product Dim...   \n",
       "\n",
       "                                 product_description  \\\n",
       "0  Product Description Hornby 2014 Catalogue Box ...   \n",
       "0  Product Description Hornby 2014 Catalogue Box ...   \n",
       "0  Product Description Hornby 2014 Catalogue Box ...   \n",
       "0  Product Description Hornby 2014 Catalogue Box ...   \n",
       "0  Product Description Hornby 2014 Catalogue Box ...   \n",
       "\n",
       "         items_customers_buy_after_viewing_this_item  \\\n",
       "0  http://www.amazon.co.uk/Hornby-R8150-Catalogue...   \n",
       "0  http://www.amazon.co.uk/Hornby-R8150-Catalogue...   \n",
       "0  http://www.amazon.co.uk/Hornby-R8150-Catalogue...   \n",
       "0  http://www.amazon.co.uk/Hornby-R8150-Catalogue...   \n",
       "0  http://www.amazon.co.uk/Hornby-R8150-Catalogue...   \n",
       "\n",
       "                      customer_questions_and_answers  \\\n",
       "0  Does this catalogue detail all the previous Ho...   \n",
       "0  Does this catalogue detail all the previous Ho...   \n",
       "0  Does this catalogue detail all the previous Ho...   \n",
       "0  Does this catalogue detail all the previous Ho...   \n",
       "0  Does this catalogue detail all the previous Ho...   \n",
       "\n",
       "                                    customer_reviews  \\\n",
       "0  Worth Buying For The Pictures Alone (As Ever) ...   \n",
       "0  Worth Buying For The Pictures Alone (As Ever) ...   \n",
       "0  Worth Buying For The Pictures Alone (As Ever) ...   \n",
       "0  Worth Buying For The Pictures Alone (As Ever) ...   \n",
       "0  Worth Buying For The Pictures Alone (As Ever) ...   \n",
       "\n",
       "                                             sellers review_rating  \\\n",
       "0  {\"seller\"=>[{\"Seller name 1\"=>\"Amazon.co.uk\", ...           4.0   \n",
       "0  {\"seller\"=>[{\"Seller name 1\"=>\"Amazon.co.uk\", ...           5.0   \n",
       "0  {\"seller\"=>[{\"Seller name 1\"=>\"Amazon.co.uk\", ...           5.0   \n",
       "0  {\"seller\"=>[{\"Seller name 1\"=>\"Amazon.co.uk\", ...           5.0   \n",
       "0  {\"seller\"=>[{\"Seller name 1\"=>\"Amazon.co.uk\", ...           5.0   \n",
       "\n",
       "     review_date     review_author  \n",
       "0   6 April 2014       Copnovelist  \n",
       "0  11 April 2015           richard  \n",
       "0  23 April 2014       Pinkhandbag  \n",
       "0   11 Jun. 2014  Gary John Mapson  \n",
       "0    7 Dec. 2014       David Baker  "
      ]
     },
     "execution_count": 13,
     "metadata": {},
     "output_type": "execute_result"
    }
   ],
   "source": [
    "import pandas as pd\n",
    "import re\n",
    "\n",
    "# Paso 2: Definir el Patrón de Expresión Regular\n",
    "# El patrón ajustado para capturar todas las variaciones de fechas y nombres en las reseñas\n",
    "pattern = r\"// (\\d+\\.\\d+) // (\\d{1,2} [A-Za-z]+\\.? \\d{4}) // By (.*?) on \\2 //\"\n",
    "\n",
    "# Paso 3: Extraer Reseñas Usando el Patrón\n",
    "def extract_reviews(row):\n",
    "    if pd.isna(row['customer_reviews']):\n",
    "        return []\n",
    "    return re.findall(pattern, row['customer_reviews'])\n",
    "\n",
    "df_amazon['extracted_reviews'] = df_amazon.apply(extract_reviews, axis=1)\n",
    "\n",
    "# Paso 4: Expandir el DataFrame\n",
    "# Creando un nuevo DataFrame a partir de las reseñas extraídas\n",
    "reviews_df = df_amazon['extracted_reviews'].apply(pd.Series).stack().reset_index(level=1, drop=True)\n",
    "reviews_df = reviews_df.apply(pd.Series)\n",
    "reviews_df.columns = ['review_rating', 'review_date', 'review_author']\n",
    "\n",
    "# Uniendo el nuevo DataFrame de reseñas con el DataFrame original\n",
    "# Manteniendo la columna 'customer_reviews'\n",
    "df_amazon_expanded = df_amazon.drop(columns=['extracted_reviews']).join(reviews_df)\n",
    "\n",
    "# Mostrando las primeras filas del DataFrame expandido\n",
    "df_amazon_expanded.head()"
   ]
  },
  {
   "cell_type": "code",
   "execution_count": null,
   "id": "23441889",
   "metadata": {},
   "outputs": [],
   "source": []
  },
  {
   "cell_type": "code",
   "execution_count": null,
   "id": "791d27d1",
   "metadata": {},
   "outputs": [],
   "source": []
  },
  {
   "cell_type": "code",
   "execution_count": null,
   "id": "6b104d41",
   "metadata": {},
   "outputs": [],
   "source": []
  },
  {
   "cell_type": "code",
   "execution_count": 12,
   "id": "46b7d98e",
   "metadata": {},
   "outputs": [
    {
     "ename": "NameError",
     "evalue": "name 'dfsdfsd' is not defined",
     "output_type": "error",
     "traceback": [
      "\u001b[1;31m---------------------------------------------------------------------------\u001b[0m",
      "\u001b[1;31mNameError\u001b[0m                                 Traceback (most recent call last)",
      "Cell \u001b[1;32mIn[12], line 1\u001b[0m\n\u001b[1;32m----> 1\u001b[0m \u001b[43mdfsdfsd\u001b[49m\n",
      "\u001b[1;31mNameError\u001b[0m: name 'dfsdfsd' is not defined"
     ]
    }
   ],
   "source": [
    "dfsdfsd"
   ]
  },
  {
   "cell_type": "code",
   "execution_count": null,
   "id": "ab0cc738",
   "metadata": {},
   "outputs": [],
   "source": []
  },
  {
   "cell_type": "code",
   "execution_count": null,
   "id": "8acaf4d5",
   "metadata": {},
   "outputs": [],
   "source": [
    "# Función ajustada para extraer el nombre del usuario considerando el nuevo patrón encontrado\n",
    "def extract_usernames_adjusted(review):\n",
    "    # Buscar todos los patrones que coincidan con 'By\\n____\\n____' seguido del nombre del usuario\n",
    "    matches = re.findall(r'By\\n____\\n____([^\\n]+)', review)\n",
    "    return matches\n",
    "\n",
    "# Aplicar la función ajustada a la columna 'customer_reviews_modified'\n",
    "df_amazon['usernames'] = df_amazon['customer_reviews'].apply(lambda x: extract_usernames_adjusted(str(x)))\n",
    "\n",
    "# Mostrar los primeros resultados para verificar\n",
    "df_amazon[['customer_reviews', 'usernames']].head()"
   ]
  },
  {
   "cell_type": "markdown",
   "id": "8f2f88dd",
   "metadata": {},
   "source": [
    "Ahora que extrajimos el nombre de cada usuario dentro de la columna 'customer_reviews' vamos a extraer todos los nombres de usuario unicos para poder crear una ID unica para cada usuario.\n",
    "\n",
    "Aqui podemos observar que hay un total de 21976 usuarios unicos y a cada usuario lo reemplazamos por una ID unica."
   ]
  },
  {
   "cell_type": "code",
   "execution_count": null,
   "id": "3be2dcb9",
   "metadata": {},
   "outputs": [],
   "source": [
    "import ast\n",
    "\n",
    "# Extraer todos los nombres de usuario únicos\n",
    "unique_usernames = set()\n",
    "for usernames in df_amazon['usernames']:\n",
    "    unique_usernames.update(usernames)\n",
    "\n",
    "# Convertir el conjunto en una lista para una mejor manipulación\n",
    "unique_usernames_list = list(unique_usernames)\n",
    "\n",
    "# Mostrar el número de nombres de usuario únicos\n",
    "len(unique_usernames_list)"
   ]
  },
  {
   "cell_type": "code",
   "execution_count": null,
   "id": "c03424e5",
   "metadata": {},
   "outputs": [],
   "source": [
    "# Crear un diccionario para mapear cada nombre de usuario a una ID única\n",
    "user_id_map = {username: f\"user_{i}\" for i, username in enumerate(unique_usernames_list)}\n",
    "\n",
    "# Función para reemplazar los nombres de usuario en la columna 'usernames' por sus respectivas IDs únicas\n",
    "def replace_usernames_with_ids(usernames):\n",
    "    return [user_id_map[username] for username in usernames]\n",
    "\n",
    "# Aplicar la función al DataFrame\n",
    "df_amazon['usernames'] = df_amazon['usernames'].apply(replace_usernames_with_ids)\n",
    "\n",
    "# Mostrar las primeras filas para verificar los cambios\n",
    "df_amazon.head()"
   ]
  },
  {
   "cell_type": "markdown",
   "id": "5ac3d32a",
   "metadata": {},
   "source": [
    "Lo que vamos a hacer a continuacion es expandir el DataFrame ('df_amazon') original de modo que cada nombre de usuario en la columna 'usernames' tenga su propia fila, manteniendo los demás datos de cada fila intactos. y crearemos un nuevo DataFrame llamado df_amazon2."
   ]
  },
  {
   "cell_type": "code",
   "execution_count": null,
   "id": "9b066e67",
   "metadata": {},
   "outputs": [],
   "source": [
    "# Expandir el DataFrame original replicando todas las columnas\n",
    "expanded_rows = []\n",
    "for _, row in df_amazon.iterrows():\n",
    "    for username in row['usernames']:\n",
    "        new_row = row.to_dict()\n",
    "        new_row['username'] = username  # Añadir el nombre de usuario a la nueva fila\n",
    "        expanded_rows.append(new_row)\n",
    "\n",
    "# Crear el DataFrame expandido\n",
    "df_amazon2 = pd.DataFrame(expanded_rows)\n",
    "\n",
    "# Eliminar la columna 'usernames' original, ya que ahora tenemos 'username'\n",
    "df_amazon2 = df_amazon2.drop('usernames', axis=1)\n",
    "\n",
    "df_amazon2.head()"
   ]
  },
  {
   "cell_type": "code",
   "execution_count": null,
   "id": "2d74238a",
   "metadata": {},
   "outputs": [],
   "source": [
    "df_amazon2.info()"
   ]
  },
  {
   "cell_type": "code",
   "execution_count": null,
   "id": "aaf9e01e",
   "metadata": {},
   "outputs": [],
   "source": [
    "# Reemplazar todos los guiones bajos y dobles guiones bajos o mayores por espacios en blanco\n",
    "df_amazon2 = df_amazon2.replace(to_replace=r'_+', value=' ', regex=True)\n",
    "\n",
    "# Mostrar las primeras filas del DataFrame modificado para verificar los cambios\n",
    "df_amazon2.head()"
   ]
  },
  {
   "cell_type": "code",
   "execution_count": null,
   "id": "00146dba",
   "metadata": {},
   "outputs": [],
   "source": [
    "# df_amazon2.to_csv('df_amazon2.csv', index=False)"
   ]
  },
  {
   "cell_type": "code",
   "execution_count": null,
   "id": "1a507410",
   "metadata": {},
   "outputs": [],
   "source": [
    "import re\n",
    "\n",
    "# Función para limpiar el texto: eliminar saltos de línea y reemplazar múltiples espacios por uno solo\n",
    "def clean_text(text):\n",
    "    if isinstance(text, str):\n",
    "        # Eliminar saltos de línea y reemplazar múltiples espacios con uno solo\n",
    "        text = re.sub(r'\\s+', ' ', text)\n",
    "    return text\n",
    "\n",
    "# Aplicando la función a todas las columnas de tipo objeto (texto)\n",
    "for col in df_amazon2.select_dtypes(include=['object']).columns:\n",
    "    df_amazon2[col] = df_amazon2[col].apply(clean_text)\n",
    "\n",
    "# Mostrando las primeras filas después de la limpieza\n",
    "df_amazon2.head()"
   ]
  },
  {
   "cell_type": "code",
   "execution_count": null,
   "id": "fd35630b",
   "metadata": {},
   "outputs": [],
   "source": []
  },
  {
   "cell_type": "code",
   "execution_count": null,
   "id": "c3999771",
   "metadata": {},
   "outputs": [],
   "source": [
    "import re\n",
    "\n",
    "# Expresión regular para extraer la fecha con el formato específico\n",
    "# El patrón asume que el formato es \"// By [Nombre] on [fecha] //\"\n",
    "date_pattern = r\"// By [A-Za-z ]+ on (\\d{1,2} [A-Za-z]+\\.? \\d{4}) //\"\n",
    "\n",
    "# Aplicar la expresión regular a la columna 'customer_reviews'\n",
    "df_amazon2['extracted_dates'] = df_amazon2['customer_reviews'].apply(lambda x: re.findall(date_pattern, x))\n",
    "\n",
    "# Mostrar los resultados\n",
    "df_amazon2[['customer_reviews', 'extracted_dates']].head()"
   ]
  },
  {
   "cell_type": "code",
   "execution_count": null,
   "id": "81a474d2",
   "metadata": {},
   "outputs": [],
   "source": []
  },
  {
   "cell_type": "code",
   "execution_count": null,
   "id": "e2267a21",
   "metadata": {},
   "outputs": [],
   "source": []
  },
  {
   "cell_type": "code",
   "execution_count": null,
   "id": "c77ce4b1",
   "metadata": {},
   "outputs": [],
   "source": []
  },
  {
   "cell_type": "code",
   "execution_count": null,
   "id": "107b7081",
   "metadata": {},
   "outputs": [],
   "source": []
  },
  {
   "cell_type": "code",
   "execution_count": null,
   "id": "2ddc84f4",
   "metadata": {},
   "outputs": [],
   "source": []
  },
  {
   "cell_type": "code",
   "execution_count": null,
   "id": "84733320",
   "metadata": {},
   "outputs": [],
   "source": []
  },
  {
   "cell_type": "code",
   "execution_count": null,
   "id": "605a55fb",
   "metadata": {},
   "outputs": [],
   "source": []
  },
  {
   "cell_type": "code",
   "execution_count": null,
   "id": "f93e27ec",
   "metadata": {},
   "outputs": [],
   "source": [
    "gfdgdfgdfgdfg"
   ]
  },
  {
   "cell_type": "markdown",
   "id": "c61844f4",
   "metadata": {},
   "source": [
    "<a id='4'></a>\n",
    "# 4. Data Preparation to Content-based filtering - Metadata-based recommender"
   ]
  },
  {
   "cell_type": "markdown",
   "id": "686e6863",
   "metadata": {},
   "source": [
    "According to our data, a metadata-based recommender system would be the most suitable option for recommendation, as our DataFrame includes a variety of features such as product name, Amazon category and subcategory, product description, and customer reviews. These data provide a wealth of information that can be used to create a metadata-based recommendation model.\n",
    "\n",
    "Furthermore, unlike models that focus on plot descriptions or stories, our data does not center around this type of characteristic, making the approach based on plot descriptions less relevant.\n",
    "\n",
    "On the other hand, the complexity of the Product Data we are analyzing (such as model train sets) may have unique characteristics that are better captured through a more detailed analysis of the metadata, rather than just focusing on general descriptions.\n",
    "\n",
    "Since users may have specific preferences in terms of product features, a metadata-based approach can provide more personalized and relevant recommendations.\n",
    "\n",
    "In summary, a metadata-based recommendation approach will more effectively leverage the variety and richness of the available data, providing more accurate and customized recommendations to users.\n",
    "\n",
    "Reference: Chapter 4.Building Content-Based Recommenders - Hands-On Recommendation Systems with Python, Rounak Banik, Copyright © 2018 Packt Publishing - ISBN 978-1-78899-375-3"
   ]
  },
  {
   "cell_type": "code",
   "execution_count": null,
   "id": "44960349",
   "metadata": {},
   "outputs": [],
   "source": [
    " df_selected = df_amazon[\n",
    "        ['uniq_id', 'product_name', 'price', 'number_available_in_stock', \n",
    "         'number_of_reviews', 'average_review_rating', 'amazon_category_and_sub_category', \n",
    "         'customers_who_bought_this_item_also_bought', 'product_description', \n",
    "         'items_customers_buy_after_viewing_this_item', 'customer_reviews','sellers']]"
   ]
  },
  {
   "cell_type": "code",
   "execution_count": null,
   "id": "a740c6c4",
   "metadata": {},
   "outputs": [],
   "source": [
    "df_selected.head()"
   ]
  },
  {
   "cell_type": "markdown",
   "id": "ae5b371c",
   "metadata": {},
   "source": [
    "In this step I will transform all the data in the following columns to lowercase, I do this in order to later be able to associate these columns with each other, therefore they must be in the same format and type."
   ]
  },
  {
   "cell_type": "code",
   "execution_count": null,
   "id": "44dd9db1",
   "metadata": {},
   "outputs": [],
   "source": [
    "# Columns to lowercase\n",
    "columns_to_lowercase = ['product_name','amazon_category_and_sub_category','customers_who_bought_this_item_also_bought',\n",
    "                        'product_description','items_customers_buy_after_viewing_this_item', 'customer_reviews',\n",
    "                        'sellers']\n",
    "\n",
    "for column in columns_to_lowercase:\n",
    "    df_selected[column] = df_selected[column].str.lower()\n",
    "\n",
    "print(df_selected[columns_to_lowercase].head())"
   ]
  },
  {
   "cell_type": "markdown",
   "id": "a744068b",
   "metadata": {},
   "source": []
  },
  {
   "cell_type": "code",
   "execution_count": null,
   "id": "246788bb",
   "metadata": {},
   "outputs": [],
   "source": [
    "# Extract Price\n",
    "df_selected['price'] = df_selected['price'].str.extract(r'(\\d+\\.?\\d*)').astype(float)\n",
    "\n",
    "print(df_selected['price'])"
   ]
  },
  {
   "cell_type": "markdown",
   "id": "b7ac7891",
   "metadata": {},
   "source": []
  },
  {
   "cell_type": "code",
   "execution_count": null,
   "id": "fa1178d4",
   "metadata": {},
   "outputs": [],
   "source": [
    "# Extract rating\n",
    "df_selected['average_review_rating'] = df_selected['average_review_rating'].str.extract(r'(\\d+\\.\\d+)').astype(float)\n",
    "\n",
    "print(df_selected['average_review_rating'].head())"
   ]
  },
  {
   "cell_type": "code",
   "execution_count": null,
   "id": "501ce2b9",
   "metadata": {},
   "outputs": [],
   "source": []
  },
  {
   "cell_type": "code",
   "execution_count": null,
   "id": "74c5f1e4",
   "metadata": {},
   "outputs": [],
   "source": [
    "# Fill all cells with NaN values or empty cells with 'Unknown'\n",
    "df_selected.fillna('Unknown', inplace=True)\n",
    "\n",
    "df_selected.head()"
   ]
  },
  {
   "cell_type": "code",
   "execution_count": null,
   "id": "5be7d720",
   "metadata": {},
   "outputs": [],
   "source": []
  },
  {
   "cell_type": "code",
   "execution_count": null,
   "id": "72250288",
   "metadata": {},
   "outputs": [],
   "source": [
    "# Replace '-' with a space\n",
    "columns_to_replace = [ 'product_name', 'customers_who_bought_this_item_also_bought','product_description',\n",
    "                      'items_customers_buy_after_viewing_this_item']\n",
    "\n",
    "for column in columns_to_replace:\n",
    "    df_selected[column] = df_selected[column].str.replace('-', ' ')\n",
    "\n",
    "print(df_selected[columns_to_replace].head())"
   ]
  },
  {
   "cell_type": "code",
   "execution_count": null,
   "id": "688e57ea",
   "metadata": {},
   "outputs": [],
   "source": []
  },
  {
   "cell_type": "code",
   "execution_count": null,
   "id": "5f4a3a12",
   "metadata": {},
   "outputs": [],
   "source": [
    "# Extract subcategories\n",
    "num_sub_categories = 5\n",
    "\n",
    "# Split categories to new columns\n",
    "split_categories = df_selected['amazon_category_and_sub_category'].str.split('>', expand=True).iloc[:, :num_sub_categories]\n",
    "for i in range(num_sub_categories):\n",
    "    df_selected[f'sub_category{i}'] = split_categories[i]\n",
    "\n",
    "# Drop 'amazon_category_and_sub_category'\n",
    "df_selected.drop('amazon_category_and_sub_category', axis=1, inplace=True)\n",
    "\n",
    "df_selected.head()"
   ]
  },
  {
   "cell_type": "code",
   "execution_count": null,
   "id": "e1b11425",
   "metadata": {},
   "outputs": [],
   "source": [
    "# Extract product names\n",
    "def extract_product_names(url_list):\n",
    "    if not isinstance(url_list, str):\n",
    "        return []\n",
    "\n",
    "    # Dividir la cadena en URLs individuales\n",
    "    urls = url_list.split('|')\n",
    "\n",
    "    product_names = []\n",
    "    for url in urls:\n",
    "        match = re.search(r'www\\.amazon\\.co\\.uk/([^/]+)', url)\n",
    "        if match:\n",
    "            product_names.append(match.group(1).replace('-', ' '))\n",
    "\n",
    "    return product_names\n",
    "\n",
    "# Apply 'customers_who_bought_this_item_also_bought'\n",
    "df_selected['extracted_product_names1'] = df_selected['customers_who_bought_this_item_also_bought'].apply(extract_product_names)\n",
    "\n",
    "# Apply 'items_customers_buy_after_viewing_this_item'\n",
    "df_selected['extracted_product_names2'] = df_selected['items_customers_buy_after_viewing_this_item'].apply(extract_product_names)\n",
    "\n",
    "print(df_selected[['customers_who_bought_this_item_also_bought', 'extracted_product_names1',\n",
    "                  'items_customers_buy_after_viewing_this_item', 'extracted_product_names2' ]].head())"
   ]
  },
  {
   "cell_type": "code",
   "execution_count": null,
   "id": "61eb48bb",
   "metadata": {},
   "outputs": [],
   "source": [
    "# Drop 'customers_who_bought_this_item_also_bought'\n",
    "df_selected.drop('customers_who_bought_this_item_also_bought', axis=1, inplace=True)\n",
    "\n",
    "# Drop 'items_customers_buy_after_viewing_this_item'\n",
    "df_selected.drop('items_customers_buy_after_viewing_this_item', axis=1, inplace=True)"
   ]
  },
  {
   "cell_type": "code",
   "execution_count": null,
   "id": "6fedb85e",
   "metadata": {},
   "outputs": [],
   "source": [
    "# Change name 'extracted_product_names1' to 'customers_who_bought_this_item_also_bought'\n",
    "df_selected.rename(columns={'extracted_product_names1': 'customers_who_bought_this_item_also_bought'}, inplace=True)\n",
    "\n",
    "# Change name 'extracted_product_names2' to 'items_customers_buy_after_viewing_this_item'\n",
    "df_selected.rename(columns={'extracted_product_names2': 'items_customers_buy_after_viewing_this_item'}, inplace=True)"
   ]
  },
  {
   "cell_type": "code",
   "execution_count": null,
   "id": "f13f408e",
   "metadata": {},
   "outputs": [],
   "source": [
    "df_selected.head()"
   ]
  },
  {
   "cell_type": "code",
   "execution_count": null,
   "id": "28f03b89",
   "metadata": {},
   "outputs": [],
   "source": []
  },
  {
   "cell_type": "code",
   "execution_count": null,
   "id": "0aaffc08",
   "metadata": {},
   "outputs": [],
   "source": [
    "# Sentiment Analysis 'customer_reviews'\n",
    "def calculate_sentiment(text):\n",
    "    try:\n",
    "        analysis = TextBlob(text)\n",
    "        return analysis.sentiment.polarity\n",
    "    except:\n",
    "        return None\n",
    "\n",
    "df_selected['review_sentiment'] = df_selected['customer_reviews'].apply(calculate_sentiment)\n",
    "\n",
    "# Classification\n",
    "df_selected['sentiment_category'] = pd.cut(df_selected['review_sentiment'], \n",
    "                                           bins=[-1, -0.01, 0.01, 1], \n",
    "                                           labels=[\"Negative\", \"Neutral\", \"Positive\"])\n",
    "\n",
    "# Sentiment counts\n",
    "sentiment_counts = df_selected['sentiment_category'].value_counts()\n",
    "\n",
    "print(sentiment_counts)"
   ]
  },
  {
   "cell_type": "code",
   "execution_count": null,
   "id": "a91a725d",
   "metadata": {},
   "outputs": [],
   "source": [
    "df_selected.head()"
   ]
  },
  {
   "cell_type": "code",
   "execution_count": null,
   "id": "8c3f31ca",
   "metadata": {},
   "outputs": [],
   "source": []
  },
  {
   "cell_type": "code",
   "execution_count": null,
   "id": "62ce2887",
   "metadata": {},
   "outputs": [],
   "source": [
    "columns_to_concatenate = ['product_description','sub_category0', 'sub_category1', 'sub_category2', 'sub_category3', \n",
    "                          'sub_category4', 'customers_who_bought_this_item_also_bought', \n",
    "                          'items_customers_buy_after_viewing_this_item','sentiment_category']\n",
    "\n",
    "df_selected['concatenated_metadata'] = df_selected[columns_to_concatenate].apply(\n",
    "    lambda x: ' '.join(x.dropna().astype(str)), axis=1\n",
    ")"
   ]
  },
  {
   "cell_type": "code",
   "execution_count": null,
   "id": "58155f18",
   "metadata": {},
   "outputs": [],
   "source": [
    "df_selected[['concatenated_metadata']].head(5)"
   ]
  },
  {
   "cell_type": "code",
   "execution_count": null,
   "id": "3c710a9e",
   "metadata": {},
   "outputs": [],
   "source": []
  },
  {
   "cell_type": "code",
   "execution_count": null,
   "id": "b657d1e5",
   "metadata": {},
   "outputs": [],
   "source": [
    "tfidf = TfidfVectorizer(stop_words='english')\n",
    "df_selected['concatenated_metadata'] = df_selected['concatenated_metadata'].fillna('').astype(str)\n",
    "\n",
    "tfidf_matrix = tfidf.fit_transform(df_selected['concatenated_metadata'])"
   ]
  },
  {
   "cell_type": "code",
   "execution_count": null,
   "id": "f5f0ab17",
   "metadata": {},
   "outputs": [],
   "source": [
    "tfidf_matrix.shape"
   ]
  },
  {
   "cell_type": "markdown",
   "id": "d8c6c5ce",
   "metadata": {},
   "source": [
    "<a id='5'></a>\n",
    "# 5. Modeling"
   ]
  },
  {
   "cell_type": "markdown",
   "id": "211b613b",
   "metadata": {},
   "source": [
    "## Content-based filtering - Metadata-based recommender"
   ]
  },
  {
   "cell_type": "code",
   "execution_count": null,
   "id": "5cda86a4",
   "metadata": {},
   "outputs": [],
   "source": []
  },
  {
   "cell_type": "code",
   "execution_count": null,
   "id": "4b8f7077",
   "metadata": {},
   "outputs": [],
   "source": [
    "cosine_sim = cosine_similarity(tfidf_matrix[:10000], tfidf_matrix[:10000])"
   ]
  },
  {
   "cell_type": "code",
   "execution_count": null,
   "id": "902bae7d",
   "metadata": {},
   "outputs": [],
   "source": []
  },
  {
   "cell_type": "code",
   "execution_count": null,
   "id": "539d4f7b",
   "metadata": {},
   "outputs": [],
   "source": [
    "# Function to get recommendations based on cosine similarity\n",
    "def get_recommendations(title, cosine_sim, df_selected, indices):\n",
    "    # Get the index of the product that matches the title\n",
    "    idx = indices[title]\n",
    "\n",
    "    # Get the similarity scores of all products with that product\n",
    "    sim_scores = list(enumerate(cosine_sim[idx]))\n",
    "\n",
    "    # Sort the products based on similarity scores\n",
    "    sim_scores = sorted(sim_scores, key=lambda x: x[1], reverse=True)\n",
    "\n",
    "    # Get the scores of the 10 most similar products\n",
    "    sim_scores = sim_scores[1:11]\n",
    "\n",
    "    # Get the indices of the products\n",
    "    product_indices = [i[0] for i in sim_scores]\n",
    "\n",
    "    # Return the 10 most similar products\n",
    "    return df_selected['product_name'].iloc[product_indices]"
   ]
  },
  {
   "cell_type": "code",
   "execution_count": null,
   "id": "0dc5904b",
   "metadata": {},
   "outputs": [],
   "source": []
  },
  {
   "cell_type": "code",
   "execution_count": null,
   "id": "3246887f",
   "metadata": {},
   "outputs": [],
   "source": [
    "# Reset index of your main DataFrame and construct reverse mapping as before\n",
    "df_selected = df_selected.reset_index()\n",
    "indices = pd.Series(df_selected.index, index=df_selected['product_name'])"
   ]
  },
  {
   "cell_type": "code",
   "execution_count": null,
   "id": "3be2e2e4",
   "metadata": {},
   "outputs": [],
   "source": [
    "# Get recommendations for a specific product\n",
    "recommendations = get_recommendations('justice league of america series 3 green lantern action figure', cosine_sim, df_selected, indices)\n",
    "\n",
    "recommendations"
   ]
  },
  {
   "cell_type": "code",
   "execution_count": null,
   "id": "547d4349",
   "metadata": {},
   "outputs": [],
   "source": []
  },
  {
   "cell_type": "markdown",
   "id": "27034ae6",
   "metadata": {},
   "source": [
    "# Data Preparation to Item-Item Collaborative Filtering"
   ]
  },
  {
   "cell_type": "code",
   "execution_count": null,
   "id": "73a69c8e",
   "metadata": {},
   "outputs": [],
   "source": []
  },
  {
   "cell_type": "code",
   "execution_count": null,
   "id": "1b836af9",
   "metadata": {},
   "outputs": [],
   "source": [
    "df_selected2 = df_selected[\n",
    "        ['uniq_id','product_name','price','average_review_rating','sub_category0','sub_category1','sub_category2',\n",
    "         'sub_category3','sub_category4','customers_who_bought_this_item_also_bought',\n",
    "         'items_customers_buy_after_viewing_this_item', 'sentiment_category']]"
   ]
  },
  {
   "cell_type": "code",
   "execution_count": null,
   "id": "5c5034c9",
   "metadata": {},
   "outputs": [],
   "source": [
    "df_selected2 = df_selected2.merge(df_amazon[['uniq_id', 'manufacturer']], on='uniq_id', how='left')"
   ]
  },
  {
   "cell_type": "code",
   "execution_count": null,
   "id": "f0fb9814",
   "metadata": {},
   "outputs": [],
   "source": [
    "# Columns 'manufacturer' to lowercase\n",
    "columns_to_lowercase = ['manufacturer']\n",
    "\n",
    "for column in columns_to_lowercase:\n",
    "    df_selected2[column] = df_selected2[column].str.lower()\n",
    "\n",
    "print(df_selected2[columns_to_lowercase].head())"
   ]
  },
  {
   "cell_type": "markdown",
   "id": "615f3243",
   "metadata": {},
   "source": [
    "I am going to replace NaN or empty values in my dataframe with 'Unknown'. However, before applying the function df_selected2.fillna('Unknown', inplace=True), I need to add 'Unknown' to the categories of my 'sentiment_category' column. This step is crucial because, in Pandas, a Categorical column only accepts values that belong to its predefined categories. Attempting to fill missing values with an undefined category in 'sentiment_category' will result in an error. Therefore, I must first ensure that 'Unknown' is included in the set of allowed categories."
   ]
  },
  {
   "cell_type": "code",
   "execution_count": null,
   "id": "a9fe28bc",
   "metadata": {},
   "outputs": [],
   "source": [
    "# Add 'Unknown' to the categories in the 'sentiment_category' column\n",
    "if 'sentiment_category' in df_selected2.columns:\n",
    "    df_selected2['sentiment_category'] = df_selected2['sentiment_category'].cat.add_categories('Unknown')\n",
    "\n",
    "# Fill all cells with NaN values or empty cells with 'Unknown'\n",
    "df_selected2.fillna('Unknown', inplace=True)"
   ]
  },
  {
   "cell_type": "code",
   "execution_count": null,
   "id": "6d5a4285",
   "metadata": {},
   "outputs": [],
   "source": [
    "df_selected2.isnull().sum()"
   ]
  },
  {
   "cell_type": "code",
   "execution_count": null,
   "id": "a331df18",
   "metadata": {},
   "outputs": [],
   "source": [
    "df_selected2.head()"
   ]
  },
  {
   "cell_type": "code",
   "execution_count": null,
   "id": "5468848f",
   "metadata": {},
   "outputs": [],
   "source": [
    "df_selected2.info()"
   ]
  },
  {
   "cell_type": "code",
   "execution_count": null,
   "id": "c600e6a1",
   "metadata": {},
   "outputs": [],
   "source": []
  },
  {
   "cell_type": "code",
   "execution_count": null,
   "id": "40cb3f4e",
   "metadata": {},
   "outputs": [],
   "source": [
    "columns_to_concatenate2 = ['product_name','manufacturer','sub_category0',\n",
    "                           'sub_category1','sub_category2','sub_category3','sub_category4',\n",
    "                           'customers_who_bought_this_item_also_bought','items_customers_buy_after_viewing_this_item',\n",
    "                          'sentiment_category']\n",
    "\n",
    "df_selected2['concatenated_metadata2'] = df_selected2[columns_to_concatenate2].apply(\n",
    "    lambda x: ' '.join(x.dropna().astype(str)), axis=1\n",
    ")"
   ]
  },
  {
   "cell_type": "code",
   "execution_count": null,
   "id": "596179b4",
   "metadata": {},
   "outputs": [],
   "source": [
    "df_selected2[['concatenated_metadata2']].head(5)"
   ]
  },
  {
   "cell_type": "code",
   "execution_count": null,
   "id": "c1140fe3",
   "metadata": {},
   "outputs": [],
   "source": []
  },
  {
   "cell_type": "code",
   "execution_count": null,
   "id": "659eb2b8",
   "metadata": {},
   "outputs": [],
   "source": [
    "tfidf = TfidfVectorizer(stop_words='english')\n",
    "df_selected2['concatenated_metadata2'] = df_selected2['concatenated_metadata2'].fillna('').astype(str)\n",
    "\n",
    "tfidf_matrix = tfidf.fit_transform(df_selected2['concatenated_metadata2'])"
   ]
  },
  {
   "cell_type": "markdown",
   "id": "9509add1",
   "metadata": {},
   "source": []
  },
  {
   "cell_type": "markdown",
   "id": "60da68aa",
   "metadata": {},
   "source": [
    "# 5. Modeling"
   ]
  },
  {
   "cell_type": "markdown",
   "id": "e73dc0d4",
   "metadata": {},
   "source": [
    "## Item-Item Collaborative Filtering"
   ]
  },
  {
   "cell_type": "code",
   "execution_count": null,
   "id": "502b310b",
   "metadata": {},
   "outputs": [],
   "source": [
    "# N-Neigbors\n",
    "n_neighbors = 5\n",
    "\n",
    "# Train NearestNeighbors model\n",
    "model_nn = NearestNeighbors(n_neighbors=n_neighbors, algorithm='auto', metric='cosine', n_jobs=-1)\n",
    "model_nn.fit(tfidf_matrix)\n",
    "\n",
    "# N-Nearest Neighbors for each product\n",
    "distances, indices = model_nn.kneighbors(tfidf_matrix)\n",
    "\n",
    "# Print only the first 4 examples\n",
    "for i in range(4):\n",
    "    product = df_selected2.iloc[i]['product_name']\n",
    "    neighbors = df_selected2.iloc[indices[i]]['product_name']\n",
    "    \n",
    "    print(f\"Products closest to '{product}':\")\n",
    "    for neighbor in neighbors:\n",
    "        print(f\" - {neighbor}\")\n",
    "    print(\"\\n\")"
   ]
  },
  {
   "cell_type": "code",
   "execution_count": null,
   "id": "882ce097",
   "metadata": {},
   "outputs": [],
   "source": [
    "cosine_sim = cosine_similarity(tfidf_matrix[:10000], tfidf_matrix[:10000])"
   ]
  },
  {
   "cell_type": "code",
   "execution_count": null,
   "id": "a52c78e0",
   "metadata": {},
   "outputs": [],
   "source": [
    "# Similarity matrix to a DataFrame\n",
    "cosine_sim_df = pd.DataFrame(cosine_sim, index=df_selected2['product_name'], columns=df_selected2['product_name'])\n",
    "cosine_sim_df.head(2)"
   ]
  },
  {
   "cell_type": "markdown",
   "id": "847b33b0",
   "metadata": {},
   "source": [
    "## Recommendation"
   ]
  },
  {
   "cell_type": "code",
   "execution_count": null,
   "id": "4ecbd50b",
   "metadata": {},
   "outputs": [],
   "source": [
    "# Function to get recommendations based on cosine similarity\n",
    "def get_recommendations(title, cosine_sim, df_selected2, indices):\n",
    "    # Get the index of the product that matches the title\n",
    "    idx = indices[title]\n",
    "\n",
    "    # Get the similarity scores of all products with that product\n",
    "    sim_scores = list(enumerate(cosine_sim[idx]))\n",
    "\n",
    "    # Sort the products based on similarity scores\n",
    "    sim_scores = sorted(sim_scores, key=lambda x: x[1], reverse=True)\n",
    "\n",
    "    # Get the scores of the 10 most similar products\n",
    "    sim_scores = sim_scores[1:11]\n",
    "\n",
    "    # Get the indices of the products\n",
    "    product_indices = [i[0] for i in sim_scores]\n",
    "\n",
    "    # Return the 10 most similar products\n",
    "    return df_selected2['product_name'].iloc[product_indices]"
   ]
  },
  {
   "cell_type": "code",
   "execution_count": null,
   "id": "d1af71dd",
   "metadata": {},
   "outputs": [],
   "source": [
    "# Reset index of your main DataFrame and construct reverse mapping as before\n",
    "df_selected2 = df_selected2.reset_index()\n",
    "indices = pd.Series(df_selected2.index, index=df_selected2['product_name'])"
   ]
  },
  {
   "cell_type": "code",
   "execution_count": null,
   "id": "ba105d24",
   "metadata": {},
   "outputs": [],
   "source": [
    "# Get recommendations for a specific product\n",
    "recommendations2 = get_recommendations('justice league of america series 3 green lantern action figure', cosine_sim, df_selected2, indices)\n",
    "\n",
    "recommendations2"
   ]
  },
  {
   "cell_type": "markdown",
   "id": "213d4e89",
   "metadata": {},
   "source": [
    "# Evaluation"
   ]
  },
  {
   "cell_type": "markdown",
   "id": "dc95cc8c",
   "metadata": {},
   "source": [
    "Evaluating a recommendation model, especially a system based on collaborative filtering, can be challenging as there aren't always 'correct' labels or results to compare against.\n",
    "\n",
    "In this case, my recommendation system isn't designed to predict numerical ratings, so MSE (Mean Squared Error) or RMSE (Root Mean Squared Error) wouldn't be appropriate metrics for evaluation. These metrics are more suitable for models that make quantitative predictions, like predicting ratings in a collaborative filtering system.\n",
    "\n",
    "On the other hand, given the structure of our data, a qualitative evaluation is more useful since I don't have test data. Therefore, I can manually examine a set of recommendations to assess their relevance.\n",
    "\n",
    "In this scenario, we will use 3 different products to evaluate the model's recommendations"
   ]
  },
  {
   "cell_type": "code",
   "execution_count": null,
   "id": "0e371ff3",
   "metadata": {},
   "outputs": [],
   "source": []
  },
  {
   "cell_type": "code",
   "execution_count": null,
   "id": "6111c0dd",
   "metadata": {},
   "outputs": [],
   "source": []
  },
  {
   "cell_type": "code",
   "execution_count": null,
   "id": "8a36ddd6",
   "metadata": {},
   "outputs": [],
   "source": []
  },
  {
   "cell_type": "markdown",
   "id": "4bd9bcea",
   "metadata": {},
   "source": [
    "# Comparison"
   ]
  },
  {
   "cell_type": "code",
   "execution_count": null,
   "id": "e5f2b4e1",
   "metadata": {},
   "outputs": [],
   "source": [
    "Image(filename =r'Comparison.jpg')"
   ]
  },
  {
   "cell_type": "code",
   "execution_count": null,
   "id": "9a095704",
   "metadata": {},
   "outputs": [],
   "source": []
  },
  {
   "cell_type": "code",
   "execution_count": null,
   "id": "99c19fe8",
   "metadata": {},
   "outputs": [],
   "source": []
  },
  {
   "cell_type": "code",
   "execution_count": null,
   "id": "1844aa6b",
   "metadata": {},
   "outputs": [],
   "source": []
  },
  {
   "cell_type": "markdown",
   "id": "541b27b3",
   "metadata": {},
   "source": [
    "# Market Basket Analysis (MBA)"
   ]
  },
  {
   "cell_type": "markdown",
   "id": "b9383627",
   "metadata": {},
   "source": []
  },
  {
   "cell_type": "code",
   "execution_count": null,
   "id": "3e48a1b0",
   "metadata": {},
   "outputs": [],
   "source": [
    "df_groceries = pd.read_csv(\"Groceries_dataset.csv\")"
   ]
  },
  {
   "cell_type": "code",
   "execution_count": null,
   "id": "e261682e",
   "metadata": {},
   "outputs": [],
   "source": [
    "df_groceries.head()"
   ]
  },
  {
   "cell_type": "code",
   "execution_count": null,
   "id": "b16b0956",
   "metadata": {},
   "outputs": [],
   "source": [
    "df_groceries.info()"
   ]
  },
  {
   "cell_type": "code",
   "execution_count": null,
   "id": "acf6520d",
   "metadata": {},
   "outputs": [],
   "source": [
    "df_groceries.isnull().sum()"
   ]
  },
  {
   "cell_type": "markdown",
   "id": "e9d01507",
   "metadata": {},
   "source": [
    "## Apriori Algorithm"
   ]
  },
  {
   "cell_type": "code",
   "execution_count": null,
   "id": "db73da1f",
   "metadata": {},
   "outputs": [],
   "source": []
  },
  {
   "cell_type": "code",
   "execution_count": null,
   "id": "76b41c9b",
   "metadata": {},
   "outputs": [],
   "source": [
    "# Basket\n",
    "basket = (df_groceries.groupby(['Member_number', 'Date'])['itemDescription']\n",
    "          .apply(lambda x: ','.join(x))\n",
    "          .reset_index())\n",
    "\n",
    "# Dataframe\n",
    "basket_set = basket['itemDescription'].str.get_dummies(',')\n",
    "\n",
    "basket_set.head()"
   ]
  },
  {
   "cell_type": "code",
   "execution_count": null,
   "id": "904b8c0d",
   "metadata": {},
   "outputs": [],
   "source": []
  },
  {
   "cell_type": "code",
   "execution_count": null,
   "id": "baa4c819",
   "metadata": {},
   "outputs": [],
   "source": [
    "# Convertir los valores a booleanos\n",
    "basket_set_bool = basket_set.applymap(lambda x: True if x > 0 else False)"
   ]
  },
  {
   "cell_type": "code",
   "execution_count": null,
   "id": "45e6b495",
   "metadata": {},
   "outputs": [],
   "source": [
    "from mlxtend.frequent_patterns import apriori\n",
    "\n",
    "# Apriori\n",
    "frequent_itemsets = apriori(basket_set_bool, min_support=0.01, use_colnames=True)\n",
    "\n",
    "frequent_itemsets.head(10)"
   ]
  },
  {
   "cell_type": "code",
   "execution_count": null,
   "id": "2e18b111",
   "metadata": {},
   "outputs": [],
   "source": []
  },
  {
   "cell_type": "code",
   "execution_count": null,
   "id": "e1ed7c50",
   "metadata": {},
   "outputs": [],
   "source": [
    "from mlxtend.frequent_patterns import association_rules\n",
    "\n",
    "# Association Rules\n",
    "rules = association_rules(frequent_itemsets, metric=\"confidence\", min_threshold=0.01)\n",
    "\n",
    "rules.head()"
   ]
  },
  {
   "cell_type": "code",
   "execution_count": null,
   "id": "ab6613c3",
   "metadata": {},
   "outputs": [],
   "source": []
  },
  {
   "cell_type": "markdown",
   "id": "153fb46e",
   "metadata": {},
   "source": [
    "## FP Growth Algorithm"
   ]
  },
  {
   "cell_type": "code",
   "execution_count": null,
   "id": "2921cb8d",
   "metadata": {},
   "outputs": [],
   "source": [
    "# Basket\n",
    "basket2 = (df_groceries.groupby(['Member_number', 'Date'])['itemDescription']\n",
    "          .apply(lambda x: ','.join(x))\n",
    "          .reset_index())\n",
    "\n",
    "# Dataframe\n",
    "basket_set2 = basket2['itemDescription'].str.get_dummies(',')\n",
    "\n",
    "basket_set2.head()"
   ]
  },
  {
   "cell_type": "code",
   "execution_count": null,
   "id": "6c696d86",
   "metadata": {},
   "outputs": [],
   "source": [
    "# Convertir los valores a booleanos\n",
    "basket_set_bool2 = basket_set2.applymap(lambda x: True if x > 0 else False)"
   ]
  },
  {
   "cell_type": "code",
   "execution_count": null,
   "id": "ad82f4dc",
   "metadata": {},
   "outputs": [],
   "source": [
    "from mlxtend.frequent_patterns import fpgrowth\n",
    "\n",
    "# FP Growth\n",
    "frequent_itemsets = fpgrowth(basket_set_bool2, min_support=0.01, use_colnames=True)\n",
    "\n",
    "frequent_itemsets.head(10)"
   ]
  },
  {
   "cell_type": "code",
   "execution_count": null,
   "id": "6dbb64ac",
   "metadata": {},
   "outputs": [],
   "source": []
  },
  {
   "cell_type": "code",
   "execution_count": null,
   "id": "52562678",
   "metadata": {},
   "outputs": [],
   "source": [
    "from mlxtend.frequent_patterns import association_rules\n",
    "\n",
    "# Association Rules\n",
    "rules = association_rules(frequent_itemsets, metric=\"confidence\", min_threshold=0.01)\n",
    "\n",
    "rules.head()"
   ]
  },
  {
   "cell_type": "code",
   "execution_count": null,
   "id": "18995ba0",
   "metadata": {},
   "outputs": [],
   "source": []
  },
  {
   "cell_type": "code",
   "execution_count": null,
   "id": "71db3f80",
   "metadata": {},
   "outputs": [],
   "source": []
  },
  {
   "cell_type": "code",
   "execution_count": null,
   "id": "0aeedc7c",
   "metadata": {},
   "outputs": [],
   "source": []
  },
  {
   "cell_type": "code",
   "execution_count": null,
   "id": "393203a7",
   "metadata": {},
   "outputs": [],
   "source": []
  },
  {
   "cell_type": "code",
   "execution_count": null,
   "id": "3d208816",
   "metadata": {},
   "outputs": [],
   "source": []
  },
  {
   "cell_type": "code",
   "execution_count": null,
   "id": "21ed61fb",
   "metadata": {},
   "outputs": [],
   "source": []
  },
  {
   "cell_type": "code",
   "execution_count": null,
   "id": "f2a7fad5",
   "metadata": {},
   "outputs": [],
   "source": []
  },
  {
   "cell_type": "code",
   "execution_count": null,
   "id": "64bb8d99",
   "metadata": {},
   "outputs": [],
   "source": []
  },
  {
   "cell_type": "code",
   "execution_count": null,
   "id": "3622d882",
   "metadata": {},
   "outputs": [],
   "source": []
  },
  {
   "cell_type": "code",
   "execution_count": null,
   "id": "858d9cad",
   "metadata": {},
   "outputs": [],
   "source": []
  },
  {
   "cell_type": "markdown",
   "id": "c586b3be",
   "metadata": {},
   "source": [
    "<a id='7'></a>\n",
    "# 7. Bibliography"
   ]
  },
  {
   "cell_type": "code",
   "execution_count": null,
   "id": "0a50af20",
   "metadata": {},
   "outputs": [],
   "source": []
  }
 ],
 "metadata": {
  "hide_input": false,
  "kernelspec": {
   "display_name": "Python 3 (ipykernel)",
   "language": "python",
   "name": "python3"
  },
  "language_info": {
   "codemirror_mode": {
    "name": "ipython",
    "version": 3
   },
   "file_extension": ".py",
   "mimetype": "text/x-python",
   "name": "python",
   "nbconvert_exporter": "python",
   "pygments_lexer": "ipython3",
   "version": "3.10.9"
  },
  "nbTranslate": {
   "displayLangs": [
    "*"
   ],
   "hotkey": "alt-t",
   "langInMainMenu": true,
   "sourceLang": "en",
   "targetLang": "fr",
   "useGoogleTranslate": true
  },
  "toc": {
   "base_numbering": 1,
   "nav_menu": {},
   "number_sections": true,
   "sideBar": true,
   "skip_h1_title": false,
   "title_cell": "Table of Contents",
   "title_sidebar": "Contents",
   "toc_cell": false,
   "toc_position": {
    "height": "calc(100% - 180px)",
    "left": "10px",
    "top": "150px",
    "width": "465.988px"
   },
   "toc_section_display": true,
   "toc_window_display": true
  },
  "varInspector": {
   "cols": {
    "lenName": 16,
    "lenType": 16,
    "lenVar": 40
   },
   "kernels_config": {
    "python": {
     "delete_cmd_postfix": "",
     "delete_cmd_prefix": "del ",
     "library": "var_list.py",
     "varRefreshCmd": "print(var_dic_list())"
    },
    "r": {
     "delete_cmd_postfix": ") ",
     "delete_cmd_prefix": "rm(",
     "library": "var_list.r",
     "varRefreshCmd": "cat(var_dic_list()) "
    }
   },
   "types_to_exclude": [
    "module",
    "function",
    "builtin_function_or_method",
    "instance",
    "_Feature"
   ],
   "window_display": false
  }
 },
 "nbformat": 4,
 "nbformat_minor": 5
}
